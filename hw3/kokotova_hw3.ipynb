{
 "cells": [
  {
   "cell_type": "markdown",
   "metadata": {
    "id": "IVAuBuZfNuqT"
   },
   "source": [
    "### Машинное обучение\n",
    "## Домашнее задание №3 - Градиентный бустинг"
   ]
  },
  {
   "cell_type": "markdown",
   "metadata": {
    "id": "kyKACzhkNuqX"
   },
   "source": [
    "**Общая информация**\n",
    "\n",
    "**Срок сдачи:** 14 мая 2024, 23:59   \n",
    "**Штраф за опоздание:** -2 балла за каждые сутки\n",
    "\n",
    "Используйте данный Ipython Notebook при оформлении домашнего задания."
   ]
  },
  {
   "cell_type": "markdown",
   "metadata": {
    "id": "Wawt5cbcNuqY"
   },
   "source": [
    "##  Считаем производные для функций потерь (1 балл)"
   ]
  },
  {
   "cell_type": "markdown",
   "metadata": {
    "id": "m9KurHx1NuqY"
   },
   "source": [
    "Мы будем реализовать градиентный бустинг для 3 функций потерь:\n",
    "\n",
    "1) MSE  $L(a(x_i), y_i) = (y_i - a(x_i)) ^ 2$\n",
    "\n",
    "2) Экспоненциальная  $L(a(x_i), y_i) = exp( -a(x_i) y_i), y_i \\in \\{-1, 1\\}$\n",
    "\n",
    "3) Логистическая  $L(a(x_i), y_i) = \\log (1 + exp( -a(x_i) y_i)), y_i \\in \\{-1, 1\\}$\n",
    "\n",
    "где $a(x_i)$ предсказание бустинга на итом объекте.\n",
    "\n",
    "Для каждой функции потерь напишите таргет, на который будет настраиваться каждое дерево в бустинге."
   ]
  },
  {
   "cell_type": "markdown",
   "metadata": {
    "id": "Ou-_YK96NuqZ"
   },
   "source": [
    "Таргет - антиградиент по функции потерь по текущим предсказаниям модели:\n",
    "\n",
    "1. для MSE: $- \\frac{\\partial L}{\\partial a(x_i)} = 2 \\cdot (y_i - a(x_i))$\n",
    "\n",
    "2. для экспоненциональной функции потерь: $- \\frac{\\partial L}{\\partial a(x_i)} = exp( -a(x_i) y_i) \\cdot y_i$\n",
    "\n",
    "3. для логистической функции потерь: $- \\frac{\\partial L}{\\partial a(x_i)} = \\frac{exp( -a(x_i) y_i) \\cdot y_i}{1 + exp( -a(x_i) y_i)}$"
   ]
  },
  {
   "cell_type": "markdown",
   "metadata": {
    "id": "NOoxjhoNNuqZ"
   },
   "source": [
    "##  Реализуем градиентный бустинг (3 балла)"
   ]
  },
  {
   "cell_type": "markdown",
   "metadata": {
    "id": "InXC-_V0Nuqa"
   },
   "source": [
    "Реализуйте класс градиентного бустинга для классификации. Ваша реализация бустинга должна работать по точности не более чем на 5 процентов хуже чем GradientBoostingClassifier из sklearn.\n"
   ]
  },
  {
   "cell_type": "markdown",
   "metadata": {
    "id": "3jt3wgLONuqa"
   },
   "source": [
    "Детали реализации:\n",
    "\n",
    "-- должно поддерживаться 3 функции потерь\n",
    "\n",
    "-- сами базовые алгоритмы(деревья, линейные модели и тп) реализовать не надо, просто возьмите готовые из sklearn\n",
    "\n",
    "-- в качестве функции потерь для построения одного дерева используйте MSE\n",
    "\n",
    "-- шаг в бустинге можно не подбирать, можно брать константный\n",
    "\n",
    "-- можно брать разные модели в качестве инициализации бустинга\n",
    "\n",
    "-- должны поддерживаться следующие параметры:\n",
    "\n",
    "а) число итераций\n",
    "б) размер шага\n",
    "в) процент случайных фичей при построении одного дерева\n",
    "д) процент случайных объектов при построении одного дерева\n",
    "е) параметры базового алгоритма (передавайте через **kwargs)"
   ]
  },
  {
   "cell_type": "code",
   "execution_count": null,
   "metadata": {
    "id": "N6vAy7IYNuqb"
   },
   "outputs": [],
   "source": [
    "import numpy as np\n",
    "\n",
    "from sklearn.datasets import load_wine\n",
    "from sklearn.ensemble import GradientBoostingClassifier\n",
    "from sklearn.metrics import accuracy_score\n",
    "from sklearn.model_selection import train_test_split\n",
    "from sklearn.tree import DecisionTreeRegressor\n",
    "\n",
    "import matplotlib.pyplot as plt\n",
    "\n",
    "from scipy.stats import mode\n",
    "\n",
    "import pandas as pd\n",
    "\n",
    "from tqdm import tqdm"
   ]
  },
  {
   "cell_type": "code",
   "execution_count": 52,
   "metadata": {
    "id": "eWhzRxclRRQB"
   },
   "outputs": [],
   "source": [
    "import warnings\n",
    "warnings.filterwarnings(\"ignore\")"
   ]
  },
  {
   "cell_type": "code",
   "execution_count": 54,
   "metadata": {
    "id": "l7y4w3k5Nuqd"
   },
   "outputs": [],
   "source": [
    "class MyGradientBoostingClassifier:\n",
    "\n",
    "    def __init__(self,\n",
    "                 loss = 'mse',\n",
    "                 learning_rate = 0.1,\n",
    "                 n_estimators = 100,\n",
    "                 colsample = 1.0,\n",
    "                 subsample = 1.0,\n",
    "                 *args, **kwargs):\n",
    "        \"\"\"\n",
    "        loss -- один из 3 лоссов:\n",
    "        learning_rate -- шаг бустинга\n",
    "        n_estimators -- число итераций\n",
    "        colsample -- процент рандомных признаков при обучнеии одного алгоритма\n",
    "        subsample -- процент рандомных объектов при обучнеии одного алгоритма\n",
    "        args, kwargs -- параметры  базовых моделей\n",
    "        \"\"\"\n",
    "        self.learning_rate = learning_rate\n",
    "        self.n_estimators = n_estimators\n",
    "        self.colsample = colsample\n",
    "        self.subsample = subsample\n",
    "        self.args = args\n",
    "        self.kwargs = kwargs\n",
    "        self.loss = loss\n",
    "\n",
    "        if loss == 'mse':\n",
    "            self.loss_func = self.mse_grad\n",
    "        elif loss == 'exponential':\n",
    "            self.loss_func = self.exp_grad\n",
    "        elif loss == 'log_loss':\n",
    "            self.loss_func = self.logloss_grad\n",
    "        else:\n",
    "            raise ValueError(\"Unsupported loss function. Choose 'mse', 'exponential', or 'log_loss'.\")\n",
    "\n",
    "    def mse_grad(self, y, pred):\n",
    "        return 2 * (y - pred)\n",
    "\n",
    "    def exp_grad(self, y, pred):\n",
    "        return y * np.exp(-pred * y)\n",
    "\n",
    "    def logloss_grad(self, y, pred):\n",
    "        exp = np.exp(-pred * y)\n",
    "        return y * exp / (1 + exp)\n",
    "\n",
    "    def fit(self, X, y, base_model = DecisionTreeRegressor, init_model=None):\n",
    "        \"\"\"\n",
    "        X -- объекты для обучения:\n",
    "        y -- таргеты для обучения\n",
    "        base_model -- класс базовых моделей, например sklearn.tree.DecisionTreeRegressor\n",
    "        init_model -- класс для первой модели, если None то берем константу (только для посл задания)\n",
    "        \"\"\"\n",
    "        self.models = []\n",
    "\n",
    "        if init_model is None:\n",
    "            self.init_model  = lambda X: np.full(X.shape[0],  mode(y).mode, dtype=float)\n",
    "            y_pred = self.init_model(X)\n",
    "        else:\n",
    "            self.init_model = init_model()\n",
    "            self.init_model.fit(X, y)\n",
    "            y_pred = self.init_model.predict(X).astype(float)\n",
    "\n",
    "        for i in range(self.n_estimators):\n",
    "            obj_sample_idx = np.random.choice(X.shape[0],\n",
    "                                 int(X.shape[0] * self.subsample),\n",
    "                                 replace=False)\n",
    "            feature_sample = np.random.choice(X.shape[1],\n",
    "                                 int(X.shape[1] * self.colsample),\n",
    "                                 replace=False)\n",
    "            sample_X, sample_y = X[obj_sample_idx], y[obj_sample_idx]\n",
    "\n",
    "            grad = self.loss_func(y, y_pred)\n",
    "\n",
    "            estimator = base_model(*self.args, **self.kwargs)\n",
    "            estimator.fit(sample_X[:, feature_sample], grad[obj_sample_idx])\n",
    "\n",
    "            y_pred += self.learning_rate * estimator.predict(X[:, feature_sample])\n",
    "\n",
    "            self.models.append((estimator, feature_sample))\n",
    "\n",
    "    def predict(self, X):\n",
    "        if hasattr(self.init_model, 'predict'):\n",
    "            y_pred = self.init_model.predict(X).astype(float)\n",
    "        else:\n",
    "            y_pred = self.init_model(X)\n",
    "\n",
    "        for model, features in self.models:\n",
    "            y_pred += self.learning_rate * model.predict(X[:, features])\n",
    "\n",
    "        if self.loss == 'mse':\n",
    "            return np.around(y_pred).astype(int)\n",
    "        else:\n",
    "            return np.where(y_pred >= 0, 1, -1)\n",
    "\n",
    "    def get_params(self, deep=True):\n",
    "        return {'loss': self.loss, 'n_estimators': self.n_estimators,\n",
    "                'colsample': self.colsample, 'subsample': self.subsample,\n",
    "                'learning_rate': self.learning_rate}\n",
    "\n",
    "    def set_params(self, **params):\n",
    "        valid_params = self.get_params(deep=True)\n",
    "        for key, value in params.items():\n",
    "            if key not in valid_params:\n",
    "                raise ValueError(\"Invalid parameter %s for estimator %s. \"\n",
    "                                 \"Check the list of available parameters \"\n",
    "                                 \"with `estimator.get_params().keys()`.\" % (key, self.__class__.__name__))\n",
    "            setattr(self, key, value)\n",
    "        return self"
   ]
  },
  {
   "cell_type": "code",
   "execution_count": null,
   "metadata": {
    "id": "b55TenAmNuqg"
   },
   "outputs": [],
   "source": [
    "my_clf = MyGradientBoostingClassifier()\n",
    "clf = GradientBoostingClassifier()"
   ]
  },
  {
   "cell_type": "code",
   "execution_count": null,
   "metadata": {
    "id": "9z9dg8tCNuqh"
   },
   "outputs": [],
   "source": [
    "wine = load_wine()\n",
    "X_train, X_test, y_train, y_test = train_test_split(wine.data, wine.target, test_size=0.1, stratify=wine.target, random_state=42)"
   ]
  },
  {
   "cell_type": "code",
   "execution_count": null,
   "metadata": {
    "id": "npgxdWxxNuqh",
    "outputId": "a3332dcd-d621-40bb-d4f7-fd9863a200fe"
   },
   "outputs": [
    {
     "name": "stdout",
     "output_type": "stream",
     "text": [
      "0.9444444444444444\n",
      "1.0\n"
     ]
    }
   ],
   "source": [
    "my_clf.fit(X_train, y_train)\n",
    "clf.fit(X_train, y_train)\n",
    "print(accuracy_score(y_pred=clf.predict(X_test), y_true=y_test))\n",
    "print(accuracy_score(y_pred=my_clf.predict(X_test), y_true=y_test))"
   ]
  },
  {
   "cell_type": "markdown",
   "metadata": {
    "id": "PboylinXNuqj"
   },
   "source": [
    "## Подбираем параметры (2 балла)\n",
    "\n",
    "Давайте попробуем применить Ваш бустинг для предсказаний цены домов в Калифорнии. Чтобы можно было попробовтаь разные функции потерь, переведем по порогу таргет в 2 класса: дорогие и дешевые дома."
   ]
  },
  {
   "cell_type": "markdown",
   "metadata": {
    "id": "HELhGaMjNuqj"
   },
   "source": [
    "В задании нужно\n",
    "\n",
    "1) Построить график точности в зависимости от числа итераций на валидации.\n",
    "\n",
    "2) Подобрать оптимальные параметры Вашего бустинга на валидации.\n"
   ]
  },
  {
   "cell_type": "code",
   "execution_count": 1,
   "metadata": {
    "id": "C7EXAy6hNuqk"
   },
   "outputs": [],
   "source": [
    "from sklearn.datasets import fetch_california_housing\n",
    "X, y = fetch_california_housing(return_X_y=True)"
   ]
  },
  {
   "cell_type": "code",
   "execution_count": null,
   "metadata": {
    "id": "ry5u2GDHNuql",
    "outputId": "9ffd1a7f-01d4-4f21-b840-1bc28afc0ed2"
   },
   "outputs": [
    {
     "name": "stdout",
     "output_type": "stream",
     "text": [
      "(20640, 8) (20640,)\n"
     ]
    }
   ],
   "source": [
    "# Превращаем регрессию в классификацию\n",
    "y = (y > 2.0).astype(int)\n",
    "print(X.shape, y.shape)"
   ]
  },
  {
   "cell_type": "code",
   "execution_count": null,
   "metadata": {
    "id": "JOHx2EUhNuqn"
   },
   "outputs": [],
   "source": [
    "X_train, X_test, y_train, y_test = train_test_split(X, y, test_size=0.1, random_state=42)"
   ]
  },
  {
   "cell_type": "code",
   "execution_count": null,
   "metadata": {
    "id": "F7Ct7bEsNuqn"
   },
   "outputs": [],
   "source": [
    "loss_plt = {'mse': [], 'log_loss': [], 'exponential': []}"
   ]
  },
  {
   "cell_type": "code",
   "execution_count": null,
   "metadata": {
    "colab": {
     "base_uri": "https://localhost:8080/"
    },
    "id": "lGj8suhhNuqn",
    "outputId": "c23f0ce9-ccf3-44b5-8f22-3ee98cbd3027"
   },
   "outputs": [
    {
     "name": "stderr",
     "output_type": "stream",
     "text": [
      "  0%|          | 0/3 [00:00<?, ?it/s]\n",
      "mse:   0%|          | 0/19 [00:00<?, ?it/s]\u001b[A\n",
      "mse:   5%|▌         | 1/19 [00:00<00:17,  1.04it/s]\u001b[A\n",
      "mse:  11%|█         | 2/19 [00:02<00:25,  1.50s/it]\u001b[A\n",
      "mse:  16%|█▌        | 3/19 [00:05<00:33,  2.08s/it]\u001b[A\n",
      "mse:  21%|██        | 4/19 [00:10<00:45,  3.06s/it]\u001b[A\n",
      "mse:  26%|██▋       | 5/19 [00:14<00:51,  3.66s/it]\u001b[A\n",
      "mse:  32%|███▏      | 6/19 [00:20<00:55,  4.28s/it]\u001b[A\n",
      "mse:  37%|███▋      | 7/19 [00:27<01:03,  5.30s/it]\u001b[A\n",
      "mse:  42%|████▏     | 8/19 [00:35<01:06,  6.01s/it]\u001b[A\n",
      "mse:  47%|████▋     | 9/19 [00:45<01:12,  7.25s/it]\u001b[A\n",
      "mse:  53%|█████▎    | 10/19 [00:55<01:12,  8.11s/it]\u001b[A\n",
      "mse:  58%|█████▊    | 11/19 [01:06<01:11,  8.98s/it]\u001b[A\n",
      "mse:  63%|██████▎   | 12/19 [01:18<01:08,  9.83s/it]\u001b[A\n",
      "mse:  68%|██████▊   | 13/19 [01:31<01:05, 10.86s/it]\u001b[A\n",
      "mse:  74%|███████▎  | 14/19 [01:45<00:59, 11.90s/it]\u001b[A\n",
      "mse:  79%|███████▉  | 15/19 [02:00<00:50, 12.71s/it]\u001b[A\n",
      "mse:  84%|████████▍ | 16/19 [02:15<00:40, 13.41s/it]\u001b[A\n",
      "mse:  89%|████████▉ | 17/19 [02:30<00:28, 14.08s/it]\u001b[A\n",
      "mse:  95%|█████████▍| 18/19 [02:46<00:14, 14.56s/it]\u001b[A\n",
      "mse: 100%|██████████| 19/19 [03:03<00:00, 15.22s/it]\u001b[A\n",
      " 33%|███▎      | 1/3 [03:03<06:06, 183.30s/it]\n",
      "log_loss:   0%|          | 0/19 [00:00<?, ?it/s]\u001b[A\n",
      "log_loss:   5%|▌         | 1/19 [00:01<00:25,  1.41s/it]\u001b[A\n",
      "log_loss:  11%|█         | 2/19 [00:03<00:33,  1.95s/it]\u001b[A\n",
      "log_loss:  16%|█▌        | 3/19 [00:07<00:42,  2.63s/it]\u001b[A\n",
      "log_loss:  21%|██        | 4/19 [00:11<00:46,  3.12s/it]\u001b[A\n",
      "log_loss:  26%|██▋       | 5/19 [00:16<00:57,  4.13s/it]\u001b[A\n",
      "log_loss:  32%|███▏      | 6/19 [00:22<01:00,  4.68s/it]\u001b[A\n",
      "log_loss:  37%|███▋      | 7/19 [00:30<01:07,  5.65s/it]\u001b[A\n",
      "log_loss:  42%|████▏     | 8/19 [00:37<01:09,  6.28s/it]\u001b[A\n",
      "log_loss:  47%|████▋     | 9/19 [00:47<01:13,  7.30s/it]\u001b[A\n",
      "log_loss:  53%|█████▎    | 10/19 [00:58<01:14,  8.29s/it]\u001b[A\n",
      "log_loss:  58%|█████▊    | 11/19 [01:09<01:13,  9.17s/it]\u001b[A\n",
      "log_loss:  63%|██████▎   | 12/19 [01:21<01:09,  9.98s/it]\u001b[A\n",
      "log_loss:  68%|██████▊   | 13/19 [01:34<01:05, 10.96s/it]\u001b[A\n",
      "log_loss:  74%|███████▎  | 14/19 [01:48<00:59, 11.99s/it]\u001b[A\n",
      "log_loss:  79%|███████▉  | 15/19 [02:04<00:52, 13.11s/it]\u001b[A\n",
      "log_loss:  84%|████████▍ | 16/19 [02:20<00:41, 13.97s/it]\u001b[A\n",
      "log_loss:  89%|████████▉ | 17/19 [02:37<00:29, 14.86s/it]\u001b[A\n",
      "log_loss:  95%|█████████▍| 18/19 [03:02<00:17, 17.85s/it]\u001b[A\n",
      "log_loss: 100%|██████████| 19/19 [03:22<00:00, 18.57s/it]\u001b[A\n",
      " 67%|██████▋   | 2/3 [06:25<03:14, 194.49s/it]\n",
      "exponential:   0%|          | 0/19 [00:00<?, ?it/s]\u001b[A\n",
      "exponential:   5%|▌         | 1/19 [00:01<00:18,  1.04s/it]\u001b[A\n",
      "exponential:  11%|█         | 2/19 [00:03<00:34,  2.02s/it]\u001b[A\n",
      "exponential:  16%|█▌        | 3/19 [00:07<00:42,  2.69s/it]\u001b[A\n",
      "exponential:  21%|██        | 4/19 [00:11<00:48,  3.21s/it]\u001b[A\n",
      "exponential:  26%|██▋       | 5/19 [00:16<00:55,  3.97s/it]\u001b[A\n",
      "exponential:  32%|███▏      | 6/19 [00:23<01:03,  4.85s/it]\u001b[A\n",
      "exponential:  37%|███▋      | 7/19 [00:30<01:07,  5.61s/it]\u001b[A\n",
      "exponential:  42%|████▏     | 8/19 [00:38<01:11,  6.48s/it]\u001b[A\n",
      "exponential:  47%|████▋     | 9/19 [00:48<01:15,  7.51s/it]\u001b[A\n",
      "exponential:  53%|█████▎    | 10/19 [00:58<01:15,  8.40s/it]\u001b[A\n",
      "exponential:  58%|█████▊    | 11/19 [01:09<01:12,  9.11s/it]\u001b[A\n",
      "exponential:  63%|██████▎   | 12/19 [01:21<01:10, 10.12s/it]\u001b[A\n",
      "exponential:  68%|██████▊   | 13/19 [01:35<01:06, 11.11s/it]\u001b[A\n",
      "exponential:  74%|███████▎  | 14/19 [01:49<01:00, 12.06s/it]\u001b[A\n",
      "exponential:  79%|███████▉  | 15/19 [02:05<00:52, 13.13s/it]\u001b[A\n",
      "exponential:  84%|████████▍ | 16/19 [02:21<00:42, 14.18s/it]\u001b[A\n",
      "exponential:  89%|████████▉ | 17/19 [02:38<00:30, 15.02s/it]\u001b[A\n",
      "exponential:  95%|█████████▍| 18/19 [02:56<00:15, 15.89s/it]\u001b[A\n",
      "exponential: 100%|██████████| 19/19 [03:16<00:00, 17.03s/it]\u001b[A\n",
      "100%|██████████| 3/3 [09:42<00:00, 194.02s/it]\n"
     ]
    }
   ],
   "source": [
    "for loss in tqdm(loss_plt.keys()):\n",
    "    for n_estimators in tqdm(range(5, 100, 5), desc=loss, leave=False):\n",
    "        my_clf = MyGradientBoostingClassifier(loss=loss, n_estimators=n_estimators, random_state=42)\n",
    "        my_clf.fit(X_train, y_train if loss == 'mse' else 2 * y_train - 1)\n",
    "        pred = my_clf.predict(X_test)\n",
    "        loss_plt[loss].append(accuracy_score(y_pred=pred, y_true=y_test if loss == 'mse' else 2 * y_test - 1))"
   ]
  },
  {
   "cell_type": "code",
   "execution_count": null,
   "metadata": {
    "colab": {
     "base_uri": "https://localhost:8080/",
     "height": 430
    },
    "id": "lqaZJ-S9Nuqo",
    "outputId": "dbdc680a-dc0d-428f-d4b3-112769167d10"
   },
   "outputs": [
    {
     "data": {
      "image/png": "[encoded data removed]",
      "text/plain": [
       "<Figure size 640x480 with 1 Axes>"
      ]
     },
     "metadata": {},
     "output_type": "display_data"
    }
   ],
   "source": [
    "for loss in loss_plt.keys():\n",
    "    plt.plot(list(range(5, 100, 5)), loss_plt[loss], label=loss)\n",
    "\n",
    "plt.legend()\n",
    "plt.show()"
   ]
  },
  {
   "cell_type": "code",
   "execution_count": null,
   "metadata": {
    "colab": {
     "base_uri": "https://localhost:8080/",
     "height": 430
    },
    "id": "icK9Tz6FRcuv",
    "outputId": "daaa3d74-36f4-4b4e-df14-db5b8ce0dadb"
   },
   "outputs": [
    {
     "data": {
      "image/png": "[encoded data removed]",
      "text/plain": [
       "<Figure size 640x480 with 1 Axes>"
      ]
     },
     "metadata": {},
     "output_type": "display_data"
    }
   ],
   "source": [
    "for loss in loss_plt.keys():\n",
    "    plt.plot(list(range(20, 100, 5)), loss_plt[loss][3:], label=loss, marker='o')\n",
    "\n",
    "plt.legend()\n",
    "plt.show()"
   ]
  },
  {
   "cell_type": "markdown",
   "metadata": {
    "id": "4wFVVaGNNuqo"
   },
   "source": [
    "При 20+ итерациях у всех моделей +- одинаковое качество. MSE дает сразу хороший результат, который потом ухудшается, а вот с логистической и экспоненциальной функциями потерь модель при увеличении итераций с 5 до 20 становится заметно лучше, потом колеблется между 0.83 и 0.832."
   ]
  },
  {
   "cell_type": "code",
   "execution_count": null,
   "metadata": {
    "colab": {
     "base_uri": "https://localhost:8080/",
     "height": 118
    },
    "id": "aiwbiO5yTLTs",
    "outputId": "12912c23-ee8c-48c9-9df9-0b4de909e795"
   },
   "outputs": [
    {
     "data": {
      "text/html": [
       "<style>#sk-container-id-2 {color: black;background-color: white;}#sk-container-id-2 pre{padding: 0;}#sk-container-id-2 div.sk-toggleable {background-color: white;}#sk-container-id-2 label.sk-toggleable__label {cursor: pointer;display: block;width: 100%;margin-bottom: 0;padding: 0.3em;box-sizing: border-box;text-align: center;}#sk-container-id-2 label.sk-toggleable__label-arrow:before {content: \"▸\";float: left;margin-right: 0.25em;color: #696969;}#sk-container-id-2 label.sk-toggleable__label-arrow:hover:before {color: black;}#sk-container-id-2 div.sk-estimator:hover label.sk-toggleable__label-arrow:before {color: black;}#sk-container-id-2 div.sk-toggleable__content {max-height: 0;max-width: 0;overflow: hidden;text-align: left;background-color: #f0f8ff;}#sk-container-id-2 div.sk-toggleable__content pre {margin: 0.2em;color: black;border-radius: 0.25em;background-color: #f0f8ff;}#sk-container-id-2 input.sk-toggleable__control:checked~div.sk-toggleable__content {max-height: 200px;max-width: 100%;overflow: auto;}#sk-container-id-2 input.sk-toggleable__control:checked~label.sk-toggleable__label-arrow:before {content: \"▾\";}#sk-container-id-2 div.sk-estimator input.sk-toggleable__control:checked~label.sk-toggleable__label {background-color: #d4ebff;}#sk-container-id-2 div.sk-label input.sk-toggleable__control:checked~label.sk-toggleable__label {background-color: #d4ebff;}#sk-container-id-2 input.sk-hidden--visually {border: 0;clip: rect(1px 1px 1px 1px);clip: rect(1px, 1px, 1px, 1px);height: 1px;margin: -1px;overflow: hidden;padding: 0;position: absolute;width: 1px;}#sk-container-id-2 div.sk-estimator {font-family: monospace;background-color: #f0f8ff;border: 1px dotted black;border-radius: 0.25em;box-sizing: border-box;margin-bottom: 0.5em;}#sk-container-id-2 div.sk-estimator:hover {background-color: #d4ebff;}#sk-container-id-2 div.sk-parallel-item::after {content: \"\";width: 100%;border-bottom: 1px solid gray;flex-grow: 1;}#sk-container-id-2 div.sk-label:hover label.sk-toggleable__label {background-color: #d4ebff;}#sk-container-id-2 div.sk-serial::before {content: \"\";position: absolute;border-left: 1px solid gray;box-sizing: border-box;top: 0;bottom: 0;left: 50%;z-index: 0;}#sk-container-id-2 div.sk-serial {display: flex;flex-direction: column;align-items: center;background-color: white;padding-right: 0.2em;padding-left: 0.2em;position: relative;}#sk-container-id-2 div.sk-item {position: relative;z-index: 1;}#sk-container-id-2 div.sk-parallel {display: flex;align-items: stretch;justify-content: center;background-color: white;position: relative;}#sk-container-id-2 div.sk-item::before, #sk-container-id-2 div.sk-parallel-item::before {content: \"\";position: absolute;border-left: 1px solid gray;box-sizing: border-box;top: 0;bottom: 0;left: 50%;z-index: -1;}#sk-container-id-2 div.sk-parallel-item {display: flex;flex-direction: column;z-index: 1;position: relative;background-color: white;}#sk-container-id-2 div.sk-parallel-item:first-child::after {align-self: flex-end;width: 50%;}#sk-container-id-2 div.sk-parallel-item:last-child::after {align-self: flex-start;width: 50%;}#sk-container-id-2 div.sk-parallel-item:only-child::after {width: 0;}#sk-container-id-2 div.sk-dashed-wrapped {border: 1px dashed gray;margin: 0 0.4em 0.5em 0.4em;box-sizing: border-box;padding-bottom: 0.4em;background-color: white;}#sk-container-id-2 div.sk-label label {font-family: monospace;font-weight: bold;display: inline-block;line-height: 1.2em;}#sk-container-id-2 div.sk-label-container {text-align: center;}#sk-container-id-2 div.sk-container {/* jupyter's `normalize.less` sets `[hidden] { display: none; }` but bootstrap.min.css set `[hidden] { display: none !important; }` so we also need the `!important` here to be able to override the default hidden behavior on the sphinx rendered scikit-learn.org. See: https://github.com/scikit-learn/scikit-learn/issues/21755 */display: inline-block !important;position: relative;}#sk-container-id-2 div.sk-text-repr-fallback {display: none;}</style><div id=\"sk-container-id-2\" class=\"sk-top-container\"><div class=\"sk-text-repr-fallback\"><pre>GridSearchCV(estimator=&lt;__main__.MyGradientBoostingClassifier object at 0x789da8e60f10&gt;,\n",
       "             n_jobs=-1,\n",
       "             param_grid={&#x27;colsample&#x27;: array([0.5, 0.6, 0.7, 0.8, 0.9, 1. ]),\n",
       "                         &#x27;learning_rate&#x27;: [0.01, 0.05, 0.1, 0.3, 0.5, 0.7, 1.0],\n",
       "                         &#x27;subsample&#x27;: array([0.5, 0.6, 0.7, 0.8, 0.9, 1. ])},\n",
       "             return_train_score=True, scoring=&#x27;accuracy&#x27;)</pre><b>In a Jupyter environment, please rerun this cell to show the HTML representation or trust the notebook. <br />On GitHub, the HTML representation is unable to render, please try loading this page with nbviewer.org.</b></div><div class=\"sk-container\" hidden><div class=\"sk-item sk-dashed-wrapped\"><div class=\"sk-label-container\"><div class=\"sk-label sk-toggleable\"><input class=\"sk-toggleable__control sk-hidden--visually\" id=\"sk-estimator-id-4\" type=\"checkbox\" ><label for=\"sk-estimator-id-4\" class=\"sk-toggleable__label sk-toggleable__label-arrow\">GridSearchCV</label><div class=\"sk-toggleable__content\"><pre>GridSearchCV(estimator=&lt;__main__.MyGradientBoostingClassifier object at 0x789da8e60f10&gt;,\n",
       "             n_jobs=-1,\n",
       "             param_grid={&#x27;colsample&#x27;: array([0.5, 0.6, 0.7, 0.8, 0.9, 1. ]),\n",
       "                         &#x27;learning_rate&#x27;: [0.01, 0.05, 0.1, 0.3, 0.5, 0.7, 1.0],\n",
       "                         &#x27;subsample&#x27;: array([0.5, 0.6, 0.7, 0.8, 0.9, 1. ])},\n",
       "             return_train_score=True, scoring=&#x27;accuracy&#x27;)</pre></div></div></div><div class=\"sk-parallel\"><div class=\"sk-parallel-item\"><div class=\"sk-item\"><div class=\"sk-label-container\"><div class=\"sk-label sk-toggleable\"><input class=\"sk-toggleable__control sk-hidden--visually\" id=\"sk-estimator-id-5\" type=\"checkbox\" ><label for=\"sk-estimator-id-5\" class=\"sk-toggleable__label sk-toggleable__label-arrow\">estimator: MyGradientBoostingClassifier</label><div class=\"sk-toggleable__content\"><pre>&lt;__main__.MyGradientBoostingClassifier object at 0x789da8e60f10&gt;</pre></div></div></div><div class=\"sk-serial\"><div class=\"sk-item\"><div class=\"sk-estimator sk-toggleable\"><input class=\"sk-toggleable__control sk-hidden--visually\" id=\"sk-estimator-id-6\" type=\"checkbox\" ><label for=\"sk-estimator-id-6\" class=\"sk-toggleable__label sk-toggleable__label-arrow\">MyGradientBoostingClassifier</label><div class=\"sk-toggleable__content\"><pre>&lt;__main__.MyGradientBoostingClassifier object at 0x789da8e60f10&gt;</pre></div></div></div></div></div></div></div></div></div></div>"
      ],
      "text/plain": [
       "GridSearchCV(estimator=<__main__.MyGradientBoostingClassifier object at 0x789da8e60f10>,\n",
       "             n_jobs=-1,\n",
       "             param_grid={'colsample': array([0.5, 0.6, 0.7, 0.8, 0.9, 1. ]),\n",
       "                         'learning_rate': [0.01, 0.05, 0.1, 0.3, 0.5, 0.7, 1.0],\n",
       "                         'subsample': array([0.5, 0.6, 0.7, 0.8, 0.9, 1. ])},\n",
       "             return_train_score=True, scoring='accuracy')"
      ]
     },
     "execution_count": 24,
     "metadata": {},
     "output_type": "execute_result"
    }
   ],
   "source": [
    "from sklearn.model_selection import GridSearchCV\n",
    "\n",
    "CV = GridSearchCV(estimator=MyGradientBoostingClassifier(n_estimators=20, random_state=42),\n",
    "                  param_grid={'colsample': np.linspace(0.5, 1, 6),\n",
    "                              'subsample': np.linspace(0.5, 1, 6),\n",
    "                              'learning_rate': [0.01, 0.05, 0.1, 0.3, 0.5, 0.7, 1.0]},\n",
    "                  n_jobs=-1, return_train_score=True,\n",
    "                  scoring='accuracy')\n",
    "\n",
    "CV.fit(X_train, y_train)"
   ]
  },
  {
   "cell_type": "code",
   "execution_count": null,
   "metadata": {
    "colab": {
     "base_uri": "https://localhost:8080/"
    },
    "id": "CrDYknG0ToU8",
    "outputId": "3c833888-e4ef-4a70-9900-2d1ce7267ab8"
   },
   "outputs": [
    {
     "data": {
      "text/plain": [
       "{'colsample': 0.8, 'learning_rate': 0.05, 'subsample': 0.9}"
      ]
     },
     "execution_count": 25,
     "metadata": {},
     "output_type": "execute_result"
    }
   ],
   "source": [
    "CV.best_params_"
   ]
  },
  {
   "cell_type": "code",
   "execution_count": null,
   "metadata": {
    "colab": {
     "base_uri": "https://localhost:8080/"
    },
    "id": "A5cgqIqPf54J",
    "outputId": "a270baf1-9e5a-4d0d-ce03-579ee1cf125f"
   },
   "outputs": [
    {
     "data": {
      "text/plain": [
       "0.8880808319340758"
      ]
     },
     "execution_count": 28,
     "metadata": {},
     "output_type": "execute_result"
    }
   ],
   "source": [
    "CV.best_score_"
   ]
  },
  {
   "cell_type": "code",
   "execution_count": 33,
   "metadata": {
    "colab": {
     "base_uri": "https://localhost:8080/"
    },
    "id": "ie-mf2VJJSxY",
    "outputId": "0d6d22fd-610e-465c-b420-bf6daa529713"
   },
   "outputs": [
    {
     "data": {
      "text/plain": [
       "{'colsample': 0.8, 'learning_rate': 0.05, 'loss': 'log_loss', 'subsample': 0.9}"
      ]
     },
     "execution_count": 33,
     "metadata": {},
     "output_type": "execute_result"
    }
   ],
   "source": [
    "CV = GridSearchCV(estimator=MyGradientBoostingClassifier(n_estimators=20, random_state=42),\n",
    "                  param_grid={'loss': ['exponential', 'log_loss'],\n",
    "                              'colsample': np.linspace(0.5, 1, 6),\n",
    "                              'subsample': np.linspace(0.5, 1, 6),\n",
    "                              'learning_rate': [0.01, 0.05, 0.1, 0.3, 0.5, 0.7, 1.0]},\n",
    "                              n_jobs=-1, return_train_score=True,\n",
    "                              scoring='accuracy')\n",
    "\n",
    "CV.fit(X_train, 2 * y_train - 1)\n",
    "\n",
    "CV.best_params_"
   ]
  },
  {
   "cell_type": "code",
   "execution_count": 34,
   "metadata": {
    "colab": {
     "base_uri": "https://localhost:8080/"
    },
    "id": "gqD_GhMohtw2",
    "outputId": "62f3f3d3-7611-4862-d2d8-4d45746a60a2"
   },
   "outputs": [
    {
     "data": {
      "text/plain": [
       "0.8857124044001641"
      ]
     },
     "execution_count": 34,
     "metadata": {},
     "output_type": "execute_result"
    }
   ],
   "source": [
    "CV.best_score_"
   ]
  },
  {
   "cell_type": "markdown",
   "metadata": {
    "id": "xNRFikJcNuqt"
   },
   "source": [
    "## BooBag BagBoo (1 балл)\n",
    "\n"
   ]
  },
  {
   "cell_type": "markdown",
   "metadata": {
    "id": "C-eOgScVNuqu"
   },
   "source": [
    "Попробуем объединить бустинг и бэгинг. Давайте\n",
    "\n",
    "1) в качестве базовой модели брать не дерево решений, а случайный лес (из sklearn)\n",
    "\n",
    "2) обучать N бустингов на бустрапированной выборке, а затем предикт усреднять"
   ]
  },
  {
   "cell_type": "markdown",
   "metadata": {
    "id": "GBae0XS9Nuqu"
   },
   "source": [
    "Попробуйте обе этих стратегии на данных из прошлого задания. Получилось ли улучшить качество? Почему?"
   ]
  },
  {
   "cell_type": "code",
   "execution_count": 36,
   "metadata": {
    "id": "HcL_Rb21Nuqu"
   },
   "outputs": [],
   "source": [
    "from sklearn.ensemble import RandomForestRegressor"
   ]
  },
  {
   "cell_type": "code",
   "execution_count": 37,
   "metadata": {
    "colab": {
     "base_uri": "https://localhost:8080/"
    },
    "collapsed": true,
    "id": "CF-cVhBzNuqu",
    "outputId": "385ab701-a98c-4399-fd68-f1ca30d77f77"
   },
   "outputs": [
    {
     "data": {
      "text/plain": [
       "0.877422480620155"
      ]
     },
     "execution_count": 37,
     "metadata": {},
     "output_type": "execute_result"
    }
   ],
   "source": [
    "my_clf = MyGradientBoostingClassifier(n_estimators=20, loss='mse',\n",
    "                                      colsample=0.8, learning_rate=0.05,\n",
    "                                      subsample=0.9,\n",
    "                                      random_state=42, n_jobs=-1)\n",
    "\n",
    "my_clf.fit(X=X_train, y=y_train, base_model=RandomForestRegressor)\n",
    "accuracy_score(y_true=y_test, y_pred=my_clf.predict(X_test))"
   ]
  },
  {
   "cell_type": "code",
   "execution_count": 49,
   "metadata": {
    "colab": {
     "base_uri": "https://localhost:8080/"
    },
    "id": "-N_Ewo97NdFF",
    "outputId": "65766f96-bbaf-4ea8-ebef-91d1bcddec18"
   },
   "outputs": [
    {
     "data": {
      "text/plain": [
       "0.874031007751938"
      ]
     },
     "execution_count": 49,
     "metadata": {},
     "output_type": "execute_result"
    }
   ],
   "source": [
    "predictions = []\n",
    "\n",
    "for i in range(10):\n",
    "    bootstrap_idx = np.random.choice(range(X_train.shape[0]), replace=True, size=X_train.shape[0])\n",
    "    X_bootstrap, y_bootstrap = X_train[bootstrap_idx], y_train[bootstrap_idx]\n",
    "\n",
    "    my_clf = MyGradientBoostingClassifier(n_estimators=20, loss='mse',\n",
    "                                          colsample=0.8, learning_rate=0.05,\n",
    "                                          subsample=0.9)\n",
    "\n",
    "    my_clf.fit(X=X_bootstrap, y=y_bootstrap)\n",
    "    predictions.append(my_clf.predict(X_test))\n",
    "\n",
    "prediction = np.round(np.mean(predictions, axis=0))\n",
    "accuracy_score(y_pred=prediction, y_true=y_test)"
   ]
  },
  {
   "cell_type": "markdown",
   "metadata": {
    "id": "eRjrN6Q5QP66"
   },
   "source": [
    "В обоих случаях стало немного хуже, в первом мы использовали случайный лес как базовую модель - случайный лес и так достаточно сильная модель, поэтому возможно такое, что на первый итерациях мы добились почти нулевого градиента и больше ничего не улучшали. Возможно, этого можно было избежать, если задать параметры для леса. Бэггинг наших классификаторов тоже не улучшил изначальный результат, возможно мы где-то слишком сильно подстроились под бутстрапированную выборку."
   ]
  },
  {
   "cell_type": "markdown",
   "metadata": {
    "collapsed": true,
    "id": "CYgsqg6eNuqv"
   },
   "source": [
    "## Умная инициализация (1 балл)\n",
    "\n",
    "Попробуйте брать в качестве инициализации бустинга не константу, а какой-то алгоритм и уже от его предикта стартовать итерации бустинга. Попробуйте разные модели из sklearn: линейные модели, рандом форест, svm..\n",
    "\n",
    "Получилось ли улучшить качество? Почему?\n",
    "\n"
   ]
  },
  {
   "cell_type": "code",
   "execution_count": 51,
   "metadata": {
    "collapsed": true,
    "id": "vQ-HeUGeNuqw"
   },
   "outputs": [],
   "source": [
    "from sklearn.svm import SVR\n",
    "from sklearn.linear_model import LogisticRegression\n",
    "from sklearn.linear_model import LinearRegression"
   ]
  },
  {
   "cell_type": "code",
   "execution_count": 55,
   "metadata": {
    "colab": {
     "base_uri": "https://localhost:8080/"
    },
    "collapsed": true,
    "id": "ZyTB8HsBNuqx",
    "outputId": "fffb56bf-bf07-40df-ce05-0809d0258d85"
   },
   "outputs": [
    {
     "name": "stdout",
     "output_type": "stream",
     "text": [
      "init model: SVR, accuracy_score: 0.8900193798449613\n",
      "init model: LogisticRegression, accuracy_score: 0.8357558139534884\n",
      "init model: LinearRegression, accuracy_score: 0.8846899224806202\n",
      "init model: RandomForestRegressor, accuracy_score: 0.8842054263565892\n"
     ]
    }
   ],
   "source": [
    "for init_model in [SVR, LogisticRegression, LinearRegression, RandomForestRegressor]:\n",
    "    my_clf = MyGradientBoostingClassifier(n_estimators=20, loss='mse',\n",
    "                                          colsample=0.8, learning_rate=0.05,\n",
    "                                          subsample=0.9, random_state=42)\n",
    "    my_clf.fit(X_train, y_train, init_model=init_model)\n",
    "    print(f\"init model: {init_model.__name__}, accuracy_score: {accuracy_score(y_true=y_test, y_pred=my_clf.predict(X_test))}\")"
   ]
  },
  {
   "cell_type": "markdown",
   "metadata": {
    "id": "IxaxLD7tTg_l"
   },
   "source": [
    "Удалось перебить оригинальный результат только SVR, остальные модели показали качество примерно такое же или чуть хуже, чем у оригинально модели после гридсерча. Если зависимость таргета от данных не похожа на линейную, то это может быть слабым стартом, который не компенсируется даже последующими итерациями."
   ]
  },
  {
   "cell_type": "code",
   "execution_count": null,
   "metadata": {
    "collapsed": true,
    "id": "RpYLnzCxNuqz"
   },
   "outputs": [],
   "source": []
  },
  {
   "cell_type": "code",
   "execution_count": null,
   "metadata": {
    "collapsed": true,
    "id": "Ht-yRr5DNuqz"
   },
   "outputs": [],
   "source": []
  }
 ],
 "metadata": {
  "anaconda-cloud": {},
  "colab": {
   "provenance": []
  },
  "kernelspec": {
   "display_name": "Python 3 (ipykernel)",
   "language": "python",
   "name": "python3"
  },
  "language_info": {
   "codemirror_mode": {
    "name": "ipython",
    "version": 3
   },
   "file_extension": ".py",
   "mimetype": "text/x-python",
   "name": "python",
   "nbconvert_exporter": "python",
   "pygments_lexer": "ipython3",
   "version": "3.11.0"
  }
 },
 "nbformat": 4,
 "nbformat_minor": 1
}
