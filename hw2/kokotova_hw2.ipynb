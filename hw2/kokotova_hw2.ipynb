{
  "cells": [
    {
      "cell_type": "markdown",
      "metadata": {
        "id": "ARBlkO-pOg8b"
      },
      "source": [
        "### Машинное Обучения\n",
        "\n",
        "## Домашнее задание №2 - Дерево решений"
      ]
    },
    {
      "cell_type": "markdown",
      "metadata": {
        "id": "8TpoCybhOg8g"
      },
      "source": [
        "**Общая информация**\n",
        "\n",
        "**Срок сдачи:** 23 апреля 2024, 23:59   \n",
        "**Штраф за опоздание:** -2 балла за каждые 2 дня опоздания\n",
        "\n",
        "Решений залить в свой github репозиторий.\n",
        "\n",
        "Используйте данный Ipython Notebook при оформлении домашнего задания."
      ]
    },
    {
      "cell_type": "markdown",
      "metadata": {
        "id": "oYXke9oIOg8h"
      },
      "source": [
        "##  Реализуем дерево решений (3 балла)"
      ]
    },
    {
      "cell_type": "markdown",
      "metadata": {
        "id": "kAETBFtdOg8i"
      },
      "source": [
        "Допишите недостающие части дерева решений. Ваша реализация дерева должна работать по точности не хуже DecisionTreeClassifier из sklearn.\n",
        "Внимание: если Вас не устраивает предложенная структура хранения дерева, Вы без потери баллов можете сделать свой класс MyDecisionTreeClassifier, в котором сами полностью воспроизведете алгоритм дерева решений. Обязательно в нем иметь только функции fit, predict . (Но название класса не менять)"
      ]
    },
    {
      "cell_type": "code",
      "execution_count": 68,
      "metadata": {
        "id": "Q0dR9DQMOg8j"
      },
      "outputs": [],
      "source": [
        "import matplotlib.pyplot as plt\n",
        "import numpy as np\n",
        "import pandas as pd\n",
        "\n",
        "from sklearn.datasets import load_wine\n",
        "from sklearn.ensemble import RandomForestClassifier\n",
        "from sklearn.metrics import accuracy_score\n",
        "from sklearn.model_selection import KFold, train_test_split, GridSearchCV, RandomizedSearchCV\n",
        "from sklearn.tree import DecisionTreeClassifier\n",
        "\n",
        "pd.set_option('display.max_columns', None)\n",
        "plt.style.use('ggplot')"
      ]
    },
    {
      "cell_type": "code",
      "execution_count": 119,
      "metadata": {
        "id": "M19YtWKcOg8k"
      },
      "outputs": [],
      "source": [
        "class MyDecisionTreeClassifier:\n",
        "    NON_LEAF_TYPE = 0\n",
        "    LEAF_TYPE = 1\n",
        "\n",
        "    def __init__(self, min_samples_split=2, max_depth=5, criterion='gini'):\n",
        "        \"\"\"\n",
        "        criterion -- критерий расщепления. необходимо релизовать три:\n",
        "        Ошибка классификации, Индекс Джини, Энтропийный критерий\n",
        "        max_depth -- максимальная глубина дерева\n",
        "        min_samples_split -- минимальное число объектов в листе, чтобы сделать новый сплит\n",
        "        \"\"\"\n",
        "        self.min_samples_split = min_samples_split\n",
        "        self.max_depth = max_depth\n",
        "        self.num_class = -1\n",
        "        # Для последнего задания\n",
        "        self.feature_importances_ = dict()\n",
        "        self.criterion = criterion\n",
        "        # Структура, которая описывает дерево\n",
        "        # Представляет словарь, где для  node_id (айдишник узла дерева) храним\n",
        "        # (тип_узла, айдишник признака сплита, порог сплита) если тип NON_LEAF_TYPE\n",
        "        # (тип_узла, предсказание класса, вероятность класса) если тип LEAF_TYPE\n",
        "        # Подразумевается, что у каждого node_id в дереве слева\n",
        "        # узел с айди 2 * node_id + 1, а справа 2 * node_id + 2\n",
        "        self.tree = dict()\n",
        "\n",
        "    def __get_impurity(self, y):\n",
        "        _, counts = np.unique(y, return_counts=True)\n",
        "        if self.criterion == 'misclassification-error':\n",
        "            return 1 - np.max(counts) / len(y)\n",
        "        else:\n",
        "            proba = counts / len(y)\n",
        "            if self.criterion == 'entropy':\n",
        "                return -np.sum(proba * np.log2(proba + 1e-9))\n",
        "            elif self.criterion == 'gini':\n",
        "                return 1 - np.sum(proba ** 2)\n",
        "\n",
        "    def __div_samples(self, x, y, feature_id, threshold):\n",
        "        \"\"\"\n",
        "        Разделяет объекты на 2 множества\n",
        "        x -- матрица объектов\n",
        "        y -- вектор ответов\n",
        "        feature_id -- айдишник признака, по которому делаем сплит\n",
        "        threshold -- порог, по которому делаем сплит\n",
        "        \"\"\"\n",
        "        left_mask = x[:, feature_id] <= threshold\n",
        "        right_mask = ~left_mask\n",
        "        return x[left_mask], x[right_mask], y[left_mask], y[right_mask]\n",
        "\n",
        "    def __find_threshold(self, x, y):\n",
        "        \"\"\"\n",
        "        Находим оптимальный признак и порог для сплита\n",
        "        Здесь используемые разные impurity в зависимости от self.criterion\n",
        "        \"\"\"\n",
        "        best_thr = None\n",
        "        best_feature = None\n",
        "        best_impurity = float('inf')\n",
        "        s = self.__get_impurity(y)\n",
        "\n",
        "        for feature_id in range(x.shape[1]):\n",
        "            feature = x[:, feature_id]\n",
        "            thresholds = np.unique(feature)\n",
        "\n",
        "            if thresholds.size > 1:\n",
        "                thresholds = thresholds[:-1]\n",
        "                for th in thresholds:\n",
        "                    left_mask = feature <= th\n",
        "                    right_mask = ~left_mask\n",
        "\n",
        "                    left_y = y[left_mask]\n",
        "                    right_y = y[right_mask]\n",
        "\n",
        "                    w_left = len(left_y) / x.shape[0]\n",
        "                    w_right = len(right_y) / x.shape[0]\n",
        "\n",
        "                    s1 = self.__get_impurity(left_y)\n",
        "                    s2 = self.__get_impurity(right_y)\n",
        "\n",
        "                    impurity = w_left * s1 + w_right * s2\n",
        "                    if impurity < best_impurity:\n",
        "                        best_impurity = impurity\n",
        "                        best_feature, best_thr = feature_id, th\n",
        "        self.feature_importances_[best_feature] = self.feature_importances_.get(best_feature, 0) + (s - best_impurity)\n",
        "        return best_feature, best_thr\n",
        "\n",
        "\n",
        "    def __fit_node(self, x, y, node_id, depth):\n",
        "        \"\"\"\n",
        "        Делаем новый узел в дереве\n",
        "        Решаем, терминальный он или нет\n",
        "        Если нет, то строим левый узел  с айди 2 * node_id + 1\n",
        "        И правый узел с  айди 2 * node_id + 2\n",
        "        \"\"\"\n",
        "        if x.shape[0] < self.min_samples_split or self.max_depth <= depth or np.unique(y).size == 1:\n",
        "            labels, class_counts = np.unique(y, return_counts=True)\n",
        "            #print(f'node_id: {node_id}, labels: {labels}, class counts: {class_counts}')\n",
        "            most_common_class = labels[np.argmax(class_counts)]\n",
        "            self.tree[node_id] = (self.LEAF_TYPE, most_common_class, np.max(class_counts) / x.shape[0])\n",
        "        else:\n",
        "            feature_id, threshold = self.__find_threshold(x, y)\n",
        "            left_x, right_x, left_y, right_y = self.__div_samples(x, y, feature_id, threshold)\n",
        "            self.tree[node_id] = (self.NON_LEAF_TYPE, feature_id, threshold)\n",
        "            self.__fit_node(left_x, left_y, 2 * node_id + 1, depth + 1)\n",
        "            self.__fit_node(right_x, right_y, 2 * node_id + 2, depth + 1)\n",
        "\n",
        "    def fit(self, x, y):\n",
        "        \"\"\"\n",
        "        Рекурсивно строим дерево решений\n",
        "        Начинаем с корня node_id 0\n",
        "        \"\"\"\n",
        "        self.num_class = np.unique(y).size\n",
        "        self.__fit_node(x, y, 0, 0)\n",
        "\n",
        "    def __predict_class(self, x, node_id):\n",
        "        \"\"\"\n",
        "        Рекурсивно обходим дерево по всем узлам,\n",
        "        пока не дойдем до терминального\n",
        "        \"\"\"\n",
        "        node = self.tree[node_id]\n",
        "        if node[0] == self.__class__.NON_LEAF_TYPE:\n",
        "            _, feature_id, threshold = node\n",
        "            if x[feature_id] <= threshold:\n",
        "                return self.__predict_class(x, 2 * node_id + 1)\n",
        "            else:\n",
        "                return self.__predict_class(x, 2 * node_id + 2)\n",
        "        else:\n",
        "            return node[1]\n",
        "\n",
        "    def predict(self, X):\n",
        "        \"\"\"\n",
        "        Вызывает predict для всех объектов из матрицы X\n",
        "        \"\"\"\n",
        "        return np.array([self.__predict_class(x, 0) for x in X])\n",
        "\n",
        "    def fit_predict(self, x_train, y_train, predicted_x):\n",
        "        self.fit(x_train, y_train)\n",
        "        return self.predict(predicted_x)\n",
        "\n",
        "    def get_feature_importance():\n",
        "        \"\"\"\n",
        "        Возвращает важность признаков\n",
        "        \"\"\"\n",
        "        return self.feature_importances_"
      ]
    },
    {
      "cell_type": "code",
      "execution_count": 106,
      "metadata": {
        "id": "E61WIeVWOg8l"
      },
      "outputs": [],
      "source": [
        "my_clf = MyDecisionTreeClassifier(min_samples_split=2)\n",
        "clf = DecisionTreeClassifier(min_samples_split=2)"
      ]
    },
    {
      "cell_type": "code",
      "execution_count": 113,
      "metadata": {
        "id": "kIKq4ng4Og8l"
      },
      "outputs": [],
      "source": [
        "wine = load_wine()\n",
        "X_train, X_test, y_train, y_test = train_test_split(wine.data, wine.target, test_size=0.1, stratify=wine.target)"
      ]
    },
    {
      "cell_type": "code",
      "source": [
        "clf.fit(X_train, y_train)\n",
        "my_clf.fit(X_train, y_train)"
      ],
      "metadata": {
        "id": "le-caLvBmDRt"
      },
      "execution_count": 114,
      "outputs": []
    },
    {
      "cell_type": "code",
      "execution_count": 115,
      "metadata": {
        "colab": {
          "base_uri": "https://localhost:8080/"
        },
        "id": "QyITPc-0Og8m",
        "outputId": "3188c52d-4b8e-4749-9779-0e7157beefcd"
      },
      "outputs": [
        {
          "output_type": "stream",
          "name": "stdout",
          "text": [
            "sklearn decision tree accuracy: 0.9444444444444444\n",
            "my decision tree accuracy: 0.9444444444444444\n"
          ]
        }
      ],
      "source": [
        "print(f'sklearn decision tree accuracy: {accuracy_score(y_pred=clf.predict(X_test), y_true=y_test)}')\n",
        "print(f'my decision tree accuracy: {accuracy_score(y_pred=my_clf.predict(X_test), y_true=y_test)}')"
      ]
    },
    {
      "cell_type": "markdown",
      "metadata": {
        "id": "l5tsgjRrOg8m"
      },
      "source": [
        "Совет: Проверьте, что ваша реализация корректно работает с признаками в которых встречаются повторы.\n",
        "И подумайте, какие еще граничные случаи могут быть.\n",
        "Например, проверьте, что на таком примере ваша модель корректно работает:"
      ]
    },
    {
      "cell_type": "code",
      "execution_count": 116,
      "metadata": {
        "colab": {
          "base_uri": "https://localhost:8080/"
        },
        "id": "DGFmuRlHOg8n",
        "outputId": "f42aa620-dbac-4874-abfa-de483d0caa5f"
      },
      "outputs": [
        {
          "output_type": "stream",
          "name": "stdout",
          "text": [
            "DEPTH: 1 \n",
            "\t\tTree: {0: (0, 1, 2), 1: (1, 0, 1.0), 2: (1, 1, 0.7142857142857143)} [0 0 0 1 1 1 1 1 1 1]\n",
            "DEPTH: 2 \n",
            "\t\tTree: {0: (0, 1, 2), 1: (1, 0, 1.0), 2: (0, 1, 6), 5: (1, 0, 0.5), 6: (1, 1, 1.0)} [0 0 0 0 0 0 0 1 1 1]\n",
            "DEPTH: 3 \n",
            "\t\tTree: {0: (0, 1, 2), 1: (1, 0, 1.0), 2: (0, 1, 6), 5: (0, 1, 4), 11: (1, 1, 1.0), 12: (1, 0, 1.0), 6: (1, 1, 1.0)} [0 0 0 0 0 1 1 1 1 1]\n",
            "DEPTH: 4 \n",
            "\t\tTree: {0: (0, 1, 2), 1: (1, 0, 1.0), 2: (0, 1, 6), 5: (0, 1, 4), 11: (1, 1, 1.0), 12: (1, 0, 1.0), 6: (1, 1, 1.0)} [0 0 0 0 0 1 1 1 1 1]\n"
          ]
        }
      ],
      "source": [
        "X = np.array([[1] * 10, [0, 1, 2, 5, 6, 3, 4, 7, 8, 9]]).T\n",
        "y = np.array([0, 0, 0, 0, 0, 1, 1, 1, 1, 1])\n",
        "for depth in range(1, 5):\n",
        "    my_clf = MyDecisionTreeClassifier(max_depth=depth)\n",
        "    my_clf.fit(X, y)\n",
        "    print(\"DEPTH:\", depth, \"\\n\\t\\tTree:\", my_clf.tree, my_clf.predict(X))"
      ]
    },
    {
      "cell_type": "markdown",
      "metadata": {
        "id": "nk44l_H_Og8n"
      },
      "source": [
        "## Ускоряем дерево решений (2 балла)\n",
        "Добиться скорости работы на fit не медленнее чем в 10 раз sklearn на данных wine.\n",
        "Для этого используем numpy."
      ]
    },
    {
      "cell_type": "code",
      "execution_count": 117,
      "metadata": {
        "scrolled": true,
        "id": "13M7Qx2qOg8n",
        "colab": {
          "base_uri": "https://localhost:8080/",
          "height": 109
        },
        "outputId": "8ac57572-3b27-4e80-82a9-9ab729358c0e"
      },
      "outputs": [
        {
          "output_type": "stream",
          "name": "stdout",
          "text": [
            "CPU times: user 3.17 ms, sys: 0 ns, total: 3.17 ms\n",
            "Wall time: 3.19 ms\n"
          ]
        },
        {
          "output_type": "execute_result",
          "data": {
            "text/plain": [
              "DecisionTreeClassifier()"
            ],
            "text/html": [
              "<style>#sk-container-id-2 {color: black;background-color: white;}#sk-container-id-2 pre{padding: 0;}#sk-container-id-2 div.sk-toggleable {background-color: white;}#sk-container-id-2 label.sk-toggleable__label {cursor: pointer;display: block;width: 100%;margin-bottom: 0;padding: 0.3em;box-sizing: border-box;text-align: center;}#sk-container-id-2 label.sk-toggleable__label-arrow:before {content: \"▸\";float: left;margin-right: 0.25em;color: #696969;}#sk-container-id-2 label.sk-toggleable__label-arrow:hover:before {color: black;}#sk-container-id-2 div.sk-estimator:hover label.sk-toggleable__label-arrow:before {color: black;}#sk-container-id-2 div.sk-toggleable__content {max-height: 0;max-width: 0;overflow: hidden;text-align: left;background-color: #f0f8ff;}#sk-container-id-2 div.sk-toggleable__content pre {margin: 0.2em;color: black;border-radius: 0.25em;background-color: #f0f8ff;}#sk-container-id-2 input.sk-toggleable__control:checked~div.sk-toggleable__content {max-height: 200px;max-width: 100%;overflow: auto;}#sk-container-id-2 input.sk-toggleable__control:checked~label.sk-toggleable__label-arrow:before {content: \"▾\";}#sk-container-id-2 div.sk-estimator input.sk-toggleable__control:checked~label.sk-toggleable__label {background-color: #d4ebff;}#sk-container-id-2 div.sk-label input.sk-toggleable__control:checked~label.sk-toggleable__label {background-color: #d4ebff;}#sk-container-id-2 input.sk-hidden--visually {border: 0;clip: rect(1px 1px 1px 1px);clip: rect(1px, 1px, 1px, 1px);height: 1px;margin: -1px;overflow: hidden;padding: 0;position: absolute;width: 1px;}#sk-container-id-2 div.sk-estimator {font-family: monospace;background-color: #f0f8ff;border: 1px dotted black;border-radius: 0.25em;box-sizing: border-box;margin-bottom: 0.5em;}#sk-container-id-2 div.sk-estimator:hover {background-color: #d4ebff;}#sk-container-id-2 div.sk-parallel-item::after {content: \"\";width: 100%;border-bottom: 1px solid gray;flex-grow: 1;}#sk-container-id-2 div.sk-label:hover label.sk-toggleable__label {background-color: #d4ebff;}#sk-container-id-2 div.sk-serial::before {content: \"\";position: absolute;border-left: 1px solid gray;box-sizing: border-box;top: 0;bottom: 0;left: 50%;z-index: 0;}#sk-container-id-2 div.sk-serial {display: flex;flex-direction: column;align-items: center;background-color: white;padding-right: 0.2em;padding-left: 0.2em;position: relative;}#sk-container-id-2 div.sk-item {position: relative;z-index: 1;}#sk-container-id-2 div.sk-parallel {display: flex;align-items: stretch;justify-content: center;background-color: white;position: relative;}#sk-container-id-2 div.sk-item::before, #sk-container-id-2 div.sk-parallel-item::before {content: \"\";position: absolute;border-left: 1px solid gray;box-sizing: border-box;top: 0;bottom: 0;left: 50%;z-index: -1;}#sk-container-id-2 div.sk-parallel-item {display: flex;flex-direction: column;z-index: 1;position: relative;background-color: white;}#sk-container-id-2 div.sk-parallel-item:first-child::after {align-self: flex-end;width: 50%;}#sk-container-id-2 div.sk-parallel-item:last-child::after {align-self: flex-start;width: 50%;}#sk-container-id-2 div.sk-parallel-item:only-child::after {width: 0;}#sk-container-id-2 div.sk-dashed-wrapped {border: 1px dashed gray;margin: 0 0.4em 0.5em 0.4em;box-sizing: border-box;padding-bottom: 0.4em;background-color: white;}#sk-container-id-2 div.sk-label label {font-family: monospace;font-weight: bold;display: inline-block;line-height: 1.2em;}#sk-container-id-2 div.sk-label-container {text-align: center;}#sk-container-id-2 div.sk-container {/* jupyter's `normalize.less` sets `[hidden] { display: none; }` but bootstrap.min.css set `[hidden] { display: none !important; }` so we also need the `!important` here to be able to override the default hidden behavior on the sphinx rendered scikit-learn.org. See: https://github.com/scikit-learn/scikit-learn/issues/21755 */display: inline-block !important;position: relative;}#sk-container-id-2 div.sk-text-repr-fallback {display: none;}</style><div id=\"sk-container-id-2\" class=\"sk-top-container\"><div class=\"sk-text-repr-fallback\"><pre>DecisionTreeClassifier()</pre><b>In a Jupyter environment, please rerun this cell to show the HTML representation or trust the notebook. <br />On GitHub, the HTML representation is unable to render, please try loading this page with nbviewer.org.</b></div><div class=\"sk-container\" hidden><div class=\"sk-item\"><div class=\"sk-estimator sk-toggleable\"><input class=\"sk-toggleable__control sk-hidden--visually\" id=\"sk-estimator-id-2\" type=\"checkbox\" checked><label for=\"sk-estimator-id-2\" class=\"sk-toggleable__label sk-toggleable__label-arrow\">DecisionTreeClassifier</label><div class=\"sk-toggleable__content\"><pre>DecisionTreeClassifier()</pre></div></div></div></div></div>"
            ]
          },
          "metadata": {},
          "execution_count": 117
        }
      ],
      "source": [
        "%time clf.fit(X_train, y_train)"
      ]
    },
    {
      "cell_type": "code",
      "execution_count": 118,
      "metadata": {
        "id": "iFoUYDhNOg8o",
        "colab": {
          "base_uri": "https://localhost:8080/"
        },
        "outputId": "b60f3fcf-1a8a-416d-9e9b-fe8f0bd2bc04"
      },
      "outputs": [
        {
          "output_type": "stream",
          "name": "stdout",
          "text": [
            "CPU times: user 352 ms, sys: 28 ms, total: 380 ms\n",
            "Wall time: 369 ms\n"
          ]
        }
      ],
      "source": [
        "%time my_clf.fit(X_train, y_train)"
      ]
    },
    {
      "cell_type": "code",
      "execution_count": null,
      "metadata": {
        "id": "xycU79biOg8o"
      },
      "outputs": [],
      "source": []
    },
    {
      "cell_type": "markdown",
      "metadata": {
        "id": "YUTEuAqmOg8o"
      },
      "source": [
        "## Боевое применение (3 балла)\n",
        "\n",
        "На практике Вы познакомились с датасетом Speed Dating Data. В нем каждая пара в быстрых свиданиях характеризуется определенным набором признаков. Задача -- предсказать, произойдет ли матч пары (колонка match).\n",
        "\n",
        "Данные и описания колонок во вложениях.\n",
        "\n",
        "Пример работы с датасетом можете найти в практике пункт 2\n",
        "https://github.com/VVVikulin/ml1.sphere/blob/master/2019-09/lecture_06/pract-trees.ipynb\n",
        "\n",
        "Либо воспользоваться функцией:"
      ]
    },
    {
      "cell_type": "code",
      "execution_count": 75,
      "metadata": {
        "id": "KQIMaHbjOg8o"
      },
      "outputs": [],
      "source": [
        "def preprocess_spd_data(df):\n",
        "    df = df.iloc[:, :97]\n",
        "\n",
        "    to_drop = [\n",
        "        'id', 'idg', 'condtn', 'round', 'position', 'positin1', 'order', 'partner',\n",
        "        'age_o', 'race_o', 'pf_o_att', 'pf_o_sin', 'pf_o_int', 'pf_o_fun', 'pf_o_amb', 'pf_o_sha',\n",
        "        'dec_o', 'attr_o', 'sinc_o', 'intel_o', 'fun_o', 'amb_o', 'shar_o', 'like_o', 'prob_o','met_o',\n",
        "        'field', 'undergra', 'from', 'zipcode', 'income', 'career', 'sports', 'tvsports', 'exercise',\n",
        "        'dining', 'museums', 'art', 'hiking', 'gaming', 'clubbing', 'reading', 'tv', 'theater', 'movies',\n",
        "        'concerts', 'music', 'shopping', 'yoga', 'expnum',\n",
        "        'mn_sat', 'tuition'\n",
        "    ]\n",
        "\n",
        "    df = df.drop(to_drop, axis=1)\n",
        "    df = df.dropna(subset=['age', 'imprelig', 'imprace', 'date'])\n",
        "\n",
        "    df.loc[:, 'field_cd'] = df.loc[:, 'field_cd'].fillna(19)\n",
        "    df.loc[:, 'career_c'] = df.loc[:, 'career_c'].fillna(18)\n",
        "\n",
        "    # attr1 processing\n",
        "    df.loc[:, 'temp_totalsum'] = df.loc[:, ['attr1_1', 'sinc1_1', 'intel1_1', 'fun1_1',\n",
        "                                            'amb1_1', 'shar1_1']].sum(axis=1)\n",
        "    df.loc[:, ['attr1_1', 'sinc1_1', 'intel1_1', 'fun1_1', 'amb1_1', 'shar1_1']] =\\\n",
        "    (df.loc[:, ['attr1_1', 'sinc1_1', 'intel1_1', 'fun1_1', 'amb1_1', 'shar1_1']].T /\n",
        "     df.loc[:, 'temp_totalsum'].T).T * 100\n",
        "\n",
        "    # attr2 processing\n",
        "    df.loc[:, 'temp_totalsum'] = df.loc[:, ['attr2_1', 'sinc2_1', 'intel2_1', 'fun2_1',\n",
        "                                            'amb2_1', 'shar2_1']].sum(axis=1)\n",
        "    df.loc[:, ['attr2_1', 'sinc2_1', 'intel2_1', 'fun2_1', 'amb2_1', 'shar2_1']] =\\\n",
        "    (df.loc[:, ['attr2_1', 'sinc2_1', 'intel2_1', 'fun2_1', 'amb2_1', 'shar2_1']].T /\n",
        "     df.loc[:, 'temp_totalsum'].T).T * 100\n",
        "    df = df.drop(['temp_totalsum'], axis=1)\n",
        "\n",
        "    for i in [4, 5]:\n",
        "        feat = ['attr{}_1'.format(i), 'sinc{}_1'.format(i),\n",
        "                'intel{}_1'.format(i), 'fun{}_1'.format(i),\n",
        "                'amb{}_1'.format(i), 'shar{}_1'.format(i)]\n",
        "\n",
        "        if i != 4:\n",
        "            feat.remove('shar{}_1'.format(i))\n",
        "\n",
        "        df = df.drop(feat, axis=1)\n",
        "\n",
        "    df = df.drop(['wave'], axis=1)\n",
        "    df = df.dropna()\n",
        "    return df"
      ]
    },
    {
      "cell_type": "markdown",
      "metadata": {
        "id": "BmrQZH68Og8p"
      },
      "source": [
        "Скачайте датасет, обработайте данные, как показано на семинаре или своим собственным способом. Обучите дерево классифкации. В качестве таргета возьмите колонку 'match'. Постарайтесь хорошо обработать признаки, чтобы выбить максимальную точность. Если точность будет близка к случайному гаданию, задание не будет защитано. В качестве метрики можно взять roc-auc.\n"
      ]
    },
    {
      "cell_type": "code",
      "execution_count": 123,
      "metadata": {
        "id": "EBgjF1JJOg8p"
      },
      "outputs": [],
      "source": [
        "df = pd.read_csv('Speed_Dating_Data.csv', encoding='latin1')\n",
        "df = preprocess_spd_data(df)"
      ]
    },
    {
      "cell_type": "code",
      "source": [
        "df.head()"
      ],
      "metadata": {
        "colab": {
          "base_uri": "https://localhost:8080/",
          "height": 226
        },
        "id": "adaFRFaUgtjf",
        "outputId": "031b6c9c-c745-4894-84f4-b20354e4493d"
      },
      "execution_count": 77,
      "outputs": [
        {
          "output_type": "execute_result",
          "data": {
            "text/plain": [
              "   iid  gender   pid  match  int_corr  samerace   age  field_cd  race  \\\n",
              "0    1       0  11.0      0      0.14         0  21.0       1.0   4.0   \n",
              "1    1       0  12.0      0      0.54         0  21.0       1.0   4.0   \n",
              "2    1       0  13.0      1      0.16         1  21.0       1.0   4.0   \n",
              "3    1       0  14.0      1      0.61         0  21.0       1.0   4.0   \n",
              "4    1       0  15.0      1      0.21         0  21.0       1.0   4.0   \n",
              "\n",
              "   imprace  imprelig  goal  date  go_out  career_c  exphappy  attr1_1  \\\n",
              "0      2.0       4.0   2.0   7.0     1.0      18.0       3.0     15.0   \n",
              "1      2.0       4.0   2.0   7.0     1.0      18.0       3.0     15.0   \n",
              "2      2.0       4.0   2.0   7.0     1.0      18.0       3.0     15.0   \n",
              "3      2.0       4.0   2.0   7.0     1.0      18.0       3.0     15.0   \n",
              "4      2.0       4.0   2.0   7.0     1.0      18.0       3.0     15.0   \n",
              "\n",
              "   sinc1_1  intel1_1  fun1_1  amb1_1  shar1_1  attr2_1  sinc2_1  intel2_1  \\\n",
              "0     20.0      20.0    15.0    15.0     15.0     35.0     20.0      15.0   \n",
              "1     20.0      20.0    15.0    15.0     15.0     35.0     20.0      15.0   \n",
              "2     20.0      20.0    15.0    15.0     15.0     35.0     20.0      15.0   \n",
              "3     20.0      20.0    15.0    15.0     15.0     35.0     20.0      15.0   \n",
              "4     20.0      20.0    15.0    15.0     15.0     35.0     20.0      15.0   \n",
              "\n",
              "   fun2_1  amb2_1  shar2_1  attr3_1  sinc3_1  fun3_1  intel3_1  amb3_1  \n",
              "0    20.0     5.0      5.0      6.0      8.0     8.0       8.0     7.0  \n",
              "1    20.0     5.0      5.0      6.0      8.0     8.0       8.0     7.0  \n",
              "2    20.0     5.0      5.0      6.0      8.0     8.0       8.0     7.0  \n",
              "3    20.0     5.0      5.0      6.0      8.0     8.0       8.0     7.0  \n",
              "4    20.0     5.0      5.0      6.0      8.0     8.0       8.0     7.0  "
            ],
            "text/html": [
              "\n",
              "  <div id=\"df-7019b3c8-9e2a-4142-ada6-263584773d45\" class=\"colab-df-container\">\n",
              "    <div>\n",
              "<style scoped>\n",
              "    .dataframe tbody tr th:only-of-type {\n",
              "        vertical-align: middle;\n",
              "    }\n",
              "\n",
              "    .dataframe tbody tr th {\n",
              "        vertical-align: top;\n",
              "    }\n",
              "\n",
              "    .dataframe thead th {\n",
              "        text-align: right;\n",
              "    }\n",
              "</style>\n",
              "<table border=\"1\" class=\"dataframe\">\n",
              "  <thead>\n",
              "    <tr style=\"text-align: right;\">\n",
              "      <th></th>\n",
              "      <th>iid</th>\n",
              "      <th>gender</th>\n",
              "      <th>pid</th>\n",
              "      <th>match</th>\n",
              "      <th>int_corr</th>\n",
              "      <th>samerace</th>\n",
              "      <th>age</th>\n",
              "      <th>field_cd</th>\n",
              "      <th>race</th>\n",
              "      <th>imprace</th>\n",
              "      <th>imprelig</th>\n",
              "      <th>goal</th>\n",
              "      <th>date</th>\n",
              "      <th>go_out</th>\n",
              "      <th>career_c</th>\n",
              "      <th>exphappy</th>\n",
              "      <th>attr1_1</th>\n",
              "      <th>sinc1_1</th>\n",
              "      <th>intel1_1</th>\n",
              "      <th>fun1_1</th>\n",
              "      <th>amb1_1</th>\n",
              "      <th>shar1_1</th>\n",
              "      <th>attr2_1</th>\n",
              "      <th>sinc2_1</th>\n",
              "      <th>intel2_1</th>\n",
              "      <th>fun2_1</th>\n",
              "      <th>amb2_1</th>\n",
              "      <th>shar2_1</th>\n",
              "      <th>attr3_1</th>\n",
              "      <th>sinc3_1</th>\n",
              "      <th>fun3_1</th>\n",
              "      <th>intel3_1</th>\n",
              "      <th>amb3_1</th>\n",
              "    </tr>\n",
              "  </thead>\n",
              "  <tbody>\n",
              "    <tr>\n",
              "      <th>0</th>\n",
              "      <td>1</td>\n",
              "      <td>0</td>\n",
              "      <td>11.0</td>\n",
              "      <td>0</td>\n",
              "      <td>0.14</td>\n",
              "      <td>0</td>\n",
              "      <td>21.0</td>\n",
              "      <td>1.0</td>\n",
              "      <td>4.0</td>\n",
              "      <td>2.0</td>\n",
              "      <td>4.0</td>\n",
              "      <td>2.0</td>\n",
              "      <td>7.0</td>\n",
              "      <td>1.0</td>\n",
              "      <td>18.0</td>\n",
              "      <td>3.0</td>\n",
              "      <td>15.0</td>\n",
              "      <td>20.0</td>\n",
              "      <td>20.0</td>\n",
              "      <td>15.0</td>\n",
              "      <td>15.0</td>\n",
              "      <td>15.0</td>\n",
              "      <td>35.0</td>\n",
              "      <td>20.0</td>\n",
              "      <td>15.0</td>\n",
              "      <td>20.0</td>\n",
              "      <td>5.0</td>\n",
              "      <td>5.0</td>\n",
              "      <td>6.0</td>\n",
              "      <td>8.0</td>\n",
              "      <td>8.0</td>\n",
              "      <td>8.0</td>\n",
              "      <td>7.0</td>\n",
              "    </tr>\n",
              "    <tr>\n",
              "      <th>1</th>\n",
              "      <td>1</td>\n",
              "      <td>0</td>\n",
              "      <td>12.0</td>\n",
              "      <td>0</td>\n",
              "      <td>0.54</td>\n",
              "      <td>0</td>\n",
              "      <td>21.0</td>\n",
              "      <td>1.0</td>\n",
              "      <td>4.0</td>\n",
              "      <td>2.0</td>\n",
              "      <td>4.0</td>\n",
              "      <td>2.0</td>\n",
              "      <td>7.0</td>\n",
              "      <td>1.0</td>\n",
              "      <td>18.0</td>\n",
              "      <td>3.0</td>\n",
              "      <td>15.0</td>\n",
              "      <td>20.0</td>\n",
              "      <td>20.0</td>\n",
              "      <td>15.0</td>\n",
              "      <td>15.0</td>\n",
              "      <td>15.0</td>\n",
              "      <td>35.0</td>\n",
              "      <td>20.0</td>\n",
              "      <td>15.0</td>\n",
              "      <td>20.0</td>\n",
              "      <td>5.0</td>\n",
              "      <td>5.0</td>\n",
              "      <td>6.0</td>\n",
              "      <td>8.0</td>\n",
              "      <td>8.0</td>\n",
              "      <td>8.0</td>\n",
              "      <td>7.0</td>\n",
              "    </tr>\n",
              "    <tr>\n",
              "      <th>2</th>\n",
              "      <td>1</td>\n",
              "      <td>0</td>\n",
              "      <td>13.0</td>\n",
              "      <td>1</td>\n",
              "      <td>0.16</td>\n",
              "      <td>1</td>\n",
              "      <td>21.0</td>\n",
              "      <td>1.0</td>\n",
              "      <td>4.0</td>\n",
              "      <td>2.0</td>\n",
              "      <td>4.0</td>\n",
              "      <td>2.0</td>\n",
              "      <td>7.0</td>\n",
              "      <td>1.0</td>\n",
              "      <td>18.0</td>\n",
              "      <td>3.0</td>\n",
              "      <td>15.0</td>\n",
              "      <td>20.0</td>\n",
              "      <td>20.0</td>\n",
              "      <td>15.0</td>\n",
              "      <td>15.0</td>\n",
              "      <td>15.0</td>\n",
              "      <td>35.0</td>\n",
              "      <td>20.0</td>\n",
              "      <td>15.0</td>\n",
              "      <td>20.0</td>\n",
              "      <td>5.0</td>\n",
              "      <td>5.0</td>\n",
              "      <td>6.0</td>\n",
              "      <td>8.0</td>\n",
              "      <td>8.0</td>\n",
              "      <td>8.0</td>\n",
              "      <td>7.0</td>\n",
              "    </tr>\n",
              "    <tr>\n",
              "      <th>3</th>\n",
              "      <td>1</td>\n",
              "      <td>0</td>\n",
              "      <td>14.0</td>\n",
              "      <td>1</td>\n",
              "      <td>0.61</td>\n",
              "      <td>0</td>\n",
              "      <td>21.0</td>\n",
              "      <td>1.0</td>\n",
              "      <td>4.0</td>\n",
              "      <td>2.0</td>\n",
              "      <td>4.0</td>\n",
              "      <td>2.0</td>\n",
              "      <td>7.0</td>\n",
              "      <td>1.0</td>\n",
              "      <td>18.0</td>\n",
              "      <td>3.0</td>\n",
              "      <td>15.0</td>\n",
              "      <td>20.0</td>\n",
              "      <td>20.0</td>\n",
              "      <td>15.0</td>\n",
              "      <td>15.0</td>\n",
              "      <td>15.0</td>\n",
              "      <td>35.0</td>\n",
              "      <td>20.0</td>\n",
              "      <td>15.0</td>\n",
              "      <td>20.0</td>\n",
              "      <td>5.0</td>\n",
              "      <td>5.0</td>\n",
              "      <td>6.0</td>\n",
              "      <td>8.0</td>\n",
              "      <td>8.0</td>\n",
              "      <td>8.0</td>\n",
              "      <td>7.0</td>\n",
              "    </tr>\n",
              "    <tr>\n",
              "      <th>4</th>\n",
              "      <td>1</td>\n",
              "      <td>0</td>\n",
              "      <td>15.0</td>\n",
              "      <td>1</td>\n",
              "      <td>0.21</td>\n",
              "      <td>0</td>\n",
              "      <td>21.0</td>\n",
              "      <td>1.0</td>\n",
              "      <td>4.0</td>\n",
              "      <td>2.0</td>\n",
              "      <td>4.0</td>\n",
              "      <td>2.0</td>\n",
              "      <td>7.0</td>\n",
              "      <td>1.0</td>\n",
              "      <td>18.0</td>\n",
              "      <td>3.0</td>\n",
              "      <td>15.0</td>\n",
              "      <td>20.0</td>\n",
              "      <td>20.0</td>\n",
              "      <td>15.0</td>\n",
              "      <td>15.0</td>\n",
              "      <td>15.0</td>\n",
              "      <td>35.0</td>\n",
              "      <td>20.0</td>\n",
              "      <td>15.0</td>\n",
              "      <td>20.0</td>\n",
              "      <td>5.0</td>\n",
              "      <td>5.0</td>\n",
              "      <td>6.0</td>\n",
              "      <td>8.0</td>\n",
              "      <td>8.0</td>\n",
              "      <td>8.0</td>\n",
              "      <td>7.0</td>\n",
              "    </tr>\n",
              "  </tbody>\n",
              "</table>\n",
              "</div>\n",
              "    <div class=\"colab-df-buttons\">\n",
              "\n",
              "  <div class=\"colab-df-container\">\n",
              "    <button class=\"colab-df-convert\" onclick=\"convertToInteractive('df-7019b3c8-9e2a-4142-ada6-263584773d45')\"\n",
              "            title=\"Convert this dataframe to an interactive table.\"\n",
              "            style=\"display:none;\">\n",
              "\n",
              "  <svg xmlns=\"http://www.w3.org/2000/svg\" height=\"24px\" viewBox=\"0 -960 960 960\">\n",
              "    <path d=\"M120-120v-720h720v720H120Zm60-500h600v-160H180v160Zm220 220h160v-160H400v160Zm0 220h160v-160H400v160ZM180-400h160v-160H180v160Zm440 0h160v-160H620v160ZM180-180h160v-160H180v160Zm440 0h160v-160H620v160Z\"/>\n",
              "  </svg>\n",
              "    </button>\n",
              "\n",
              "  <style>\n",
              "    .colab-df-container {\n",
              "      display:flex;\n",
              "      gap: 12px;\n",
              "    }\n",
              "\n",
              "    .colab-df-convert {\n",
              "      background-color: #E8F0FE;\n",
              "      border: none;\n",
              "      border-radius: 50%;\n",
              "      cursor: pointer;\n",
              "      display: none;\n",
              "      fill: #1967D2;\n",
              "      height: 32px;\n",
              "      padding: 0 0 0 0;\n",
              "      width: 32px;\n",
              "    }\n",
              "\n",
              "    .colab-df-convert:hover {\n",
              "      background-color: #E2EBFA;\n",
              "      box-shadow: 0px 1px 2px rgba(60, 64, 67, 0.3), 0px 1px 3px 1px rgba(60, 64, 67, 0.15);\n",
              "      fill: #174EA6;\n",
              "    }\n",
              "\n",
              "    .colab-df-buttons div {\n",
              "      margin-bottom: 4px;\n",
              "    }\n",
              "\n",
              "    [theme=dark] .colab-df-convert {\n",
              "      background-color: #3B4455;\n",
              "      fill: #D2E3FC;\n",
              "    }\n",
              "\n",
              "    [theme=dark] .colab-df-convert:hover {\n",
              "      background-color: #434B5C;\n",
              "      box-shadow: 0px 1px 3px 1px rgba(0, 0, 0, 0.15);\n",
              "      filter: drop-shadow(0px 1px 2px rgba(0, 0, 0, 0.3));\n",
              "      fill: #FFFFFF;\n",
              "    }\n",
              "  </style>\n",
              "\n",
              "    <script>\n",
              "      const buttonEl =\n",
              "        document.querySelector('#df-7019b3c8-9e2a-4142-ada6-263584773d45 button.colab-df-convert');\n",
              "      buttonEl.style.display =\n",
              "        google.colab.kernel.accessAllowed ? 'block' : 'none';\n",
              "\n",
              "      async function convertToInteractive(key) {\n",
              "        const element = document.querySelector('#df-7019b3c8-9e2a-4142-ada6-263584773d45');\n",
              "        const dataTable =\n",
              "          await google.colab.kernel.invokeFunction('convertToInteractive',\n",
              "                                                    [key], {});\n",
              "        if (!dataTable) return;\n",
              "\n",
              "        const docLinkHtml = 'Like what you see? Visit the ' +\n",
              "          '<a target=\"_blank\" href=https://colab.research.google.com/notebooks/data_table.ipynb>data table notebook</a>'\n",
              "          + ' to learn more about interactive tables.';\n",
              "        element.innerHTML = '';\n",
              "        dataTable['output_type'] = 'display_data';\n",
              "        await google.colab.output.renderOutput(dataTable, element);\n",
              "        const docLink = document.createElement('div');\n",
              "        docLink.innerHTML = docLinkHtml;\n",
              "        element.appendChild(docLink);\n",
              "      }\n",
              "    </script>\n",
              "  </div>\n",
              "\n",
              "\n",
              "<div id=\"df-95390dd3-380d-455b-8999-4986d914a32c\">\n",
              "  <button class=\"colab-df-quickchart\" onclick=\"quickchart('df-95390dd3-380d-455b-8999-4986d914a32c')\"\n",
              "            title=\"Suggest charts\"\n",
              "            style=\"display:none;\">\n",
              "\n",
              "<svg xmlns=\"http://www.w3.org/2000/svg\" height=\"24px\"viewBox=\"0 0 24 24\"\n",
              "     width=\"24px\">\n",
              "    <g>\n",
              "        <path d=\"M19 3H5c-1.1 0-2 .9-2 2v14c0 1.1.9 2 2 2h14c1.1 0 2-.9 2-2V5c0-1.1-.9-2-2-2zM9 17H7v-7h2v7zm4 0h-2V7h2v10zm4 0h-2v-4h2v4z\"/>\n",
              "    </g>\n",
              "</svg>\n",
              "  </button>\n",
              "\n",
              "<style>\n",
              "  .colab-df-quickchart {\n",
              "      --bg-color: #E8F0FE;\n",
              "      --fill-color: #1967D2;\n",
              "      --hover-bg-color: #E2EBFA;\n",
              "      --hover-fill-color: #174EA6;\n",
              "      --disabled-fill-color: #AAA;\n",
              "      --disabled-bg-color: #DDD;\n",
              "  }\n",
              "\n",
              "  [theme=dark] .colab-df-quickchart {\n",
              "      --bg-color: #3B4455;\n",
              "      --fill-color: #D2E3FC;\n",
              "      --hover-bg-color: #434B5C;\n",
              "      --hover-fill-color: #FFFFFF;\n",
              "      --disabled-bg-color: #3B4455;\n",
              "      --disabled-fill-color: #666;\n",
              "  }\n",
              "\n",
              "  .colab-df-quickchart {\n",
              "    background-color: var(--bg-color);\n",
              "    border: none;\n",
              "    border-radius: 50%;\n",
              "    cursor: pointer;\n",
              "    display: none;\n",
              "    fill: var(--fill-color);\n",
              "    height: 32px;\n",
              "    padding: 0;\n",
              "    width: 32px;\n",
              "  }\n",
              "\n",
              "  .colab-df-quickchart:hover {\n",
              "    background-color: var(--hover-bg-color);\n",
              "    box-shadow: 0 1px 2px rgba(60, 64, 67, 0.3), 0 1px 3px 1px rgba(60, 64, 67, 0.15);\n",
              "    fill: var(--button-hover-fill-color);\n",
              "  }\n",
              "\n",
              "  .colab-df-quickchart-complete:disabled,\n",
              "  .colab-df-quickchart-complete:disabled:hover {\n",
              "    background-color: var(--disabled-bg-color);\n",
              "    fill: var(--disabled-fill-color);\n",
              "    box-shadow: none;\n",
              "  }\n",
              "\n",
              "  .colab-df-spinner {\n",
              "    border: 2px solid var(--fill-color);\n",
              "    border-color: transparent;\n",
              "    border-bottom-color: var(--fill-color);\n",
              "    animation:\n",
              "      spin 1s steps(1) infinite;\n",
              "  }\n",
              "\n",
              "  @keyframes spin {\n",
              "    0% {\n",
              "      border-color: transparent;\n",
              "      border-bottom-color: var(--fill-color);\n",
              "      border-left-color: var(--fill-color);\n",
              "    }\n",
              "    20% {\n",
              "      border-color: transparent;\n",
              "      border-left-color: var(--fill-color);\n",
              "      border-top-color: var(--fill-color);\n",
              "    }\n",
              "    30% {\n",
              "      border-color: transparent;\n",
              "      border-left-color: var(--fill-color);\n",
              "      border-top-color: var(--fill-color);\n",
              "      border-right-color: var(--fill-color);\n",
              "    }\n",
              "    40% {\n",
              "      border-color: transparent;\n",
              "      border-right-color: var(--fill-color);\n",
              "      border-top-color: var(--fill-color);\n",
              "    }\n",
              "    60% {\n",
              "      border-color: transparent;\n",
              "      border-right-color: var(--fill-color);\n",
              "    }\n",
              "    80% {\n",
              "      border-color: transparent;\n",
              "      border-right-color: var(--fill-color);\n",
              "      border-bottom-color: var(--fill-color);\n",
              "    }\n",
              "    90% {\n",
              "      border-color: transparent;\n",
              "      border-bottom-color: var(--fill-color);\n",
              "    }\n",
              "  }\n",
              "</style>\n",
              "\n",
              "  <script>\n",
              "    async function quickchart(key) {\n",
              "      const quickchartButtonEl =\n",
              "        document.querySelector('#' + key + ' button');\n",
              "      quickchartButtonEl.disabled = true;  // To prevent multiple clicks.\n",
              "      quickchartButtonEl.classList.add('colab-df-spinner');\n",
              "      try {\n",
              "        const charts = await google.colab.kernel.invokeFunction(\n",
              "            'suggestCharts', [key], {});\n",
              "      } catch (error) {\n",
              "        console.error('Error during call to suggestCharts:', error);\n",
              "      }\n",
              "      quickchartButtonEl.classList.remove('colab-df-spinner');\n",
              "      quickchartButtonEl.classList.add('colab-df-quickchart-complete');\n",
              "    }\n",
              "    (() => {\n",
              "      let quickchartButtonEl =\n",
              "        document.querySelector('#df-95390dd3-380d-455b-8999-4986d914a32c button');\n",
              "      quickchartButtonEl.style.display =\n",
              "        google.colab.kernel.accessAllowed ? 'block' : 'none';\n",
              "    })();\n",
              "  </script>\n",
              "</div>\n",
              "    </div>\n",
              "  </div>\n"
            ],
            "application/vnd.google.colaboratory.intrinsic+json": {
              "type": "dataframe",
              "variable_name": "df"
            }
          },
          "metadata": {},
          "execution_count": 77
        }
      ]
    },
    {
      "cell_type": "code",
      "execution_count": 124,
      "metadata": {
        "id": "usHc5bYYOg8p"
      },
      "outputs": [],
      "source": [
        "y = df['match']\n",
        "X = df.drop(columns = 'match')\n",
        "X, y = X.to_numpy(), y.to_numpy()"
      ]
    },
    {
      "cell_type": "code",
      "source": [
        "from sklearn.metrics import roc_auc_score"
      ],
      "metadata": {
        "id": "WieayTJBe7ru"
      },
      "execution_count": 79,
      "outputs": []
    },
    {
      "cell_type": "code",
      "execution_count": null,
      "metadata": {
        "id": "4fGhdOGQOg8q",
        "colab": {
          "base_uri": "https://localhost:8080/"
        },
        "outputId": "c570ec22-01bb-4a86-bf0d-cb2cd6742836"
      },
      "outputs": [
        {
          "output_type": "stream",
          "name": "stdout",
          "text": [
            "sklearn decision tree ROC-AUC: 0.6004056795131847\n",
            "my decision tree ROC-AUC: 0.6004056795131847\n"
          ]
        }
      ],
      "source": [
        "X_train, X_test, y_train, y_test = train_test_split(X, y, test_size=0.15, shuffle=True, random_state=42)\n",
        "\n",
        "my_clf = MyDecisionTreeClassifier(min_samples_split=2, max_depth=5, criterion='gini')\n",
        "clf = DecisionTreeClassifier(min_samples_split=2, max_depth=5, criterion='gini')\n",
        "\n",
        "clf.fit(X_train, y_train)\n",
        "my_clf.fit(X_train, y_train)\n",
        "\n",
        "y_pred_clf = clf.predict(X_test)\n",
        "y_pred_my_clf = my_clf.predict(X_test)\n",
        "\n",
        "roc_auc_my_clf = roc_auc_score(y_true=y_test, y_score=y_pred_my_clf)\n",
        "\n",
        "print(f'sklearn decision tree ROC-AUC: {roc_auc_score(y_true=y_test, y_score=y_pred_clf)}')\n",
        "print(f'my decision tree ROC-AUC: {roc_auc_score(y_true=y_test, y_score=y_pred_my_clf)}')"
      ]
    },
    {
      "cell_type": "markdown",
      "source": [
        "Пользуюсь обработкой данных, предложенной в самом дз. Обучила дерево из sklearn и свое с одинаковыми гиперпараметрами - и там, и там roc-auc = 0.6, что уже не случайное гадание, но и не вау. Не снимайте за это задание баллы, пожалуйста :)\n",
        "\n",
        "Еще почему-то при перезапускании ячейки результат может меняться, причем и у моего, и встроенного классификатора :/"
      ],
      "metadata": {
        "id": "kV7hswAqkfNd"
      }
    },
    {
      "cell_type": "markdown",
      "metadata": {
        "id": "85EMRsKuOg8p"
      },
      "source": [
        "Разбейте датасет на трейн и валидацию. Подберите на валидации оптимальный критерий  информативности.\n",
        "Постройте графики зависимости точности на валидации и трейне от глубины дерева, от минимального числа объектов для сплита. (Т.е должно быть 2 графика, на каждой должны быть 2 кривые - для трейна и валидации)\n",
        "Какой максимальной точности удалось достигнуть?"
      ]
    },
    {
      "cell_type": "markdown",
      "source": [
        "## Подбор критерия информативности"
      ],
      "metadata": {
        "id": "Rg29NFQ1l8Ju"
      }
    },
    {
      "cell_type": "code",
      "source": [
        "criterions = ['gini', 'entropy', 'misclassification-error']\n",
        "scores = []\n",
        "\n",
        "for criterion in criterions:\n",
        "    my_clf = MyDecisionTreeClassifier(min_samples_split=2, max_depth=5, criterion=criterion)\n",
        "    my_clf.fit(X_train, y_train)\n",
        "    scores.append(roc_auc_score(y_true=y_test, y_score=my_clf.predict(X_test)))\n",
        "\n",
        "print(f'Оптимальный критерий: {criterions[np.argmax(scores)]}')"
      ],
      "metadata": {
        "colab": {
          "base_uri": "https://localhost:8080/"
        },
        "id": "A1Y7_raCmAYJ",
        "outputId": "11c7a7a5-0ac3-43c3-8fcb-dc9ecf983a6c"
      },
      "execution_count": null,
      "outputs": [
        {
          "output_type": "stream",
          "name": "stdout",
          "text": [
            "Оптимальный критерий: gini\n"
          ]
        }
      ]
    },
    {
      "cell_type": "markdown",
      "source": [
        "## Зависимость точности от глубины"
      ],
      "metadata": {
        "id": "QOeoUC4qoGpF"
      }
    },
    {
      "cell_type": "markdown",
      "source": [
        "В задании шла речь о точности, а под ней как правило понимают accuracy, буду смотреть на эту метрику"
      ],
      "metadata": {
        "id": "PtqRhthDofaM"
      }
    },
    {
      "cell_type": "code",
      "source": [
        "from sklearn.metrics import accuracy_score"
      ],
      "metadata": {
        "id": "y3Hq9Q5voPLd"
      },
      "execution_count": 81,
      "outputs": []
    },
    {
      "cell_type": "code",
      "source": [
        "train_scores = []\n",
        "test_scores = []\n",
        "\n",
        "for depth in range(1, 31):\n",
        "    my_clf = MyDecisionTreeClassifier(min_samples_split=2, max_depth=depth, criterion='gini')\n",
        "    my_clf.fit(X_train, y_train)\n",
        "    train_scores.append(accuracy_score(y_true=y_train, y_pred=my_clf.predict(X_train)))\n",
        "    test_scores.append(accuracy_score(y_true=y_test, y_pred=my_clf.predict(X_test)))"
      ],
      "metadata": {
        "id": "89ltrc12oGRm"
      },
      "execution_count": 82,
      "outputs": []
    },
    {
      "cell_type": "code",
      "source": [
        "plt.plot(range(1, 31), train_scores, label='train accuracy')\n",
        "plt.plot(range(1, 31), test_scores, label='test accuracy')\n",
        "plt.legend()\n",
        "plt.title('зависимость accuracy от max_depth')\n",
        "plt.show()"
      ],
      "metadata": {
        "colab": {
          "base_uri": "https://localhost:8080/",
          "height": 453
        },
        "id": "m1I6nwzep0I5",
        "outputId": "7e8a7393-53a9-47a0-91d5-c639ba018bb3"
      },
      "execution_count": 83,
      "outputs": [
        {
          "output_type": "display_data",
          "data": {
            "text/plain": [
              "<Figure size 640x480 with 1 Axes>"
            ],
            "image/png": "[encoded data removed]"
          },
          "metadata": {}
        }
      ]
    },
    {
      "cell_type": "markdown",
      "metadata": {
        "id": "lDbiqjYnOg8q"
      },
      "source": [
        "Известным фактом является то, что деревья решений сильно переобучаются при увеличении глубины и просто запоминают трейн.\n",
        "Замечаете ли вы такой эффект судя по графикам? Что при этом происходит с качеством на валидации?"
      ]
    },
    {
      "cell_type": "markdown",
      "source": [
        "Из графика видно, что при глубине дерева > ~4, качество на валидации начинает падать и с последующим увеличением глубины становится только хуже. При этом качество на трейне растет и стремится к 1, что говорит о переобучении модели."
      ],
      "metadata": {
        "id": "D2XJGki6qjmk"
      }
    },
    {
      "cell_type": "markdown",
      "source": [
        "## Зависимость точности от min_samples_split"
      ],
      "metadata": {
        "id": "PJylfRGRq0PD"
      }
    },
    {
      "cell_type": "code",
      "source": [
        "train_scores = []\n",
        "test_scores = []\n",
        "\n",
        "for samples in range(1, 15):\n",
        "    my_clf = MyDecisionTreeClassifier(min_samples_split=samples, max_depth=5, criterion='gini')\n",
        "    my_clf.fit(X_train, y_train)\n",
        "    train_scores.append(accuracy_score(y_true=y_train, y_pred=my_clf.predict(X_train)))\n",
        "    test_scores.append(accuracy_score(y_true=y_test, y_pred=my_clf.predict(X_test)))"
      ],
      "metadata": {
        "id": "Wz-4E61Sqz1g"
      },
      "execution_count": 144,
      "outputs": []
    },
    {
      "cell_type": "code",
      "source": [
        "plt.plot(range(1, 15), train_scores, label='train accuracy')\n",
        "plt.plot(range(1, 15), test_scores, label='test accuracy')\n",
        "plt.legend()\n",
        "plt.title('зависимость accuracy от min_samples_split')\n",
        "plt.show()"
      ],
      "metadata": {
        "colab": {
          "base_uri": "https://localhost:8080/",
          "height": 453
        },
        "id": "hgvroa3GrFga",
        "outputId": "8710e939-0ae1-4f7f-a80c-747708bc9c4a"
      },
      "execution_count": 145,
      "outputs": [
        {
          "output_type": "display_data",
          "data": {
            "text/plain": [
              "<Figure size 640x480 with 1 Axes>"
            ],
            "image/png": "[encoded data removed]"
          },
          "metadata": {}
        }
      ]
    },
    {
      "cell_type": "markdown",
      "source": [
        "При увеличении числа сэмплов для разбиения на трейне качество чуть падает, при этом на валидации заметно, что обобщающая способность улучшилась(но в обоих случаях изменения не критичные)."
      ],
      "metadata": {
        "id": "Z8BlER7YoUa0"
      }
    },
    {
      "cell_type": "markdown",
      "metadata": {
        "id": "k-ucki1iOg8q"
      },
      "source": [
        "## Находим самые важные признаки (2 балла)\n",
        "\n"
      ]
    },
    {
      "cell_type": "markdown",
      "metadata": {
        "id": "u9fZMtgOOg8q"
      },
      "source": [
        "По построенному дереву  легко понять, какие признаки лучше всего помогли решить задачу. Часто это бывает нужно  не только  для сокращения размерности в данных, но и для лучшего понимания прикладной задачи. Например, Вы хотите понять, какие признаки стоит еще конструировать -- для этого нужно понимать, какие из текущих лучше всего работают в дереве."
      ]
    },
    {
      "cell_type": "markdown",
      "metadata": {
        "id": "IkKb6_0ROg8q"
      },
      "source": [
        "Самый простой метод -- посчитать число сплитов, где использовался данные признак. Это не лучший вариант, так как по признаку который принимает всего 2 значения, но который почти точно разделяет выборку, число сплитов будет очень 1, но при этом признак сам очень хороший.\n",
        "В этом задании предлагается для каждого признака считать суммарный gain (в лекции обозначено как Q) при использовании этого признака в сплите. Тогда даже у очень хороших признаков с маленьким число сплитов это значение должно быть довольно высоким.  "
      ]
    },
    {
      "cell_type": "markdown",
      "metadata": {
        "id": "70xk3puPOg8r"
      },
      "source": [
        "Реализовать это довольно просто: создаете словарь номер фичи : суммарный гейн и добавляете в нужную фичу каждый раз, когда используете ее при построении дерева."
      ]
    },
    {
      "cell_type": "markdown",
      "metadata": {
        "id": "9Wm1NtNWOg8r"
      },
      "source": [
        "Добавьте функционал, который определяет значения feature importance. Обучите дерево на датасете Speed Dating Data.\n",
        "Выведите 10 главных фичей по важности."
      ]
    },
    {
      "cell_type": "code",
      "execution_count": 125,
      "metadata": {
        "id": "LuxKsFmGOg8r"
      },
      "outputs": [],
      "source": [
        "my_clf = MyDecisionTreeClassifier()\n",
        "my_clf.fit(X, y)"
      ]
    },
    {
      "cell_type": "code",
      "execution_count": 142,
      "metadata": {
        "id": "lbQxac2VOg8r",
        "colab": {
          "base_uri": "https://localhost:8080/"
        },
        "outputId": "f6ede4be-66ef-4312-d036-3c9871d9ff72"
      },
      "outputs": [
        {
          "output_type": "stream",
          "name": "stdout",
          "text": [
            "pid: 0.6293078949312159\n",
            "race: 0.40816326530612246\n",
            "int_corr: 0.17347125739902527\n",
            "imprace: 0.09703884133632806\n",
            "exphappy: 0.06583183966107226\n",
            "iid: 0.06162586980331719\n",
            "samerace: 0.009336419753086356\n",
            "age: 0.007253615591136409\n",
            "amb3_1: 0.005367648408492409\n",
            "intel2_1: 0.0032264652219005097\n"
          ]
        }
      ],
      "source": [
        "importances_dict = my_clf.feature_importances_\n",
        "top10features = sorted(importances_dict.items(), key=lambda x: x[1], reverse=True)[:10]\n",
        "feature_names = df.drop(columns='match').columns\n",
        "for feature_id, q in top10features:\n",
        "  print(f'{feature_names[feature_id]}: {q}')"
      ]
    },
    {
      "cell_type": "markdown",
      "metadata": {
        "id": "-zCh0aOaOg8s"
      },
      "source": [
        "## Фидбек (бесценно)"
      ]
    },
    {
      "cell_type": "markdown",
      "metadata": {
        "id": "rSapnsUsOg8s"
      },
      "source": [
        "* Какие аспекты обучения деревьев решений Вам показались непонятными? Какое место стоит дополнительно объяснить?"
      ]
    },
    {
      "cell_type": "markdown",
      "source": [
        "Домашка разложила все, что связано с построением деревьев по полочкам, все супер понятно."
      ],
      "metadata": {
        "id": "8KWilPu0orsz"
      }
    },
    {
      "cell_type": "markdown",
      "metadata": {
        "id": "WinOKRzSOg8s"
      },
      "source": [
        "### Ваш ответ здесь"
      ]
    },
    {
      "cell_type": "markdown",
      "metadata": {
        "id": "hY6_MX5eOg8s"
      },
      "source": [
        "Домашка заставила попотеть - особенно раздел с оптимизацией, который мне так и не поддался(хотя я ради него просрочить дедлайн решила). Наверно, хотелось бы узнать, как можно провести оптимизациию и как это реализовано в sklearn."
      ]
    },
    {
      "cell_type": "code",
      "execution_count": null,
      "metadata": {
        "collapsed": true,
        "jupyter": {
          "outputs_hidden": true
        },
        "id": "4l3OzVkQOg8t"
      },
      "outputs": [],
      "source": []
    },
    {
      "cell_type": "code",
      "execution_count": null,
      "metadata": {
        "collapsed": true,
        "jupyter": {
          "outputs_hidden": true
        },
        "id": "pbu_8X2mOg8t"
      },
      "outputs": [],
      "source": []
    }
  ],
  "metadata": {
    "anaconda-cloud": {},
    "kernelspec": {
      "display_name": "Python 3 (ipykernel)",
      "language": "python",
      "name": "python3"
    },
    "language_info": {
      "codemirror_mode": {
        "name": "ipython",
        "version": 3
      },
      "file_extension": ".py",
      "mimetype": "text/x-python",
      "name": "python",
      "nbconvert_exporter": "python",
      "pygments_lexer": "ipython3",
      "version": "3.9.13"
    },
    "colab": {
      "provenance": []
    }
  },
  "nbformat": 4,
  "nbformat_minor": 0
}